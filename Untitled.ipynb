{
 "cells": [
  {
   "cell_type": "markdown",
   "id": "72cb55d5-0156-4a74-9d65-139b8d552f60",
   "metadata": {},
   "source": [
    "# Importing libraries"
   ]
  },
  {
   "cell_type": "code",
   "execution_count": 1,
   "id": "833504ee-b3d1-4848-9f32-0af6dde1c4d0",
   "metadata": {},
   "outputs": [
    {
     "name": "stderr",
     "output_type": "stream",
     "text": [
      "2024-01-04 19:50:07.701512: I tensorflow/core/util/port.cc:113] oneDNN custom operations are on. You may see slightly different numerical results due to floating-point round-off errors from different computation orders. To turn them off, set the environment variable `TF_ENABLE_ONEDNN_OPTS=0`.\n",
      "2024-01-04 19:50:07.836479: E external/local_xla/xla/stream_executor/cuda/cuda_dnn.cc:9261] Unable to register cuDNN factory: Attempting to register factory for plugin cuDNN when one has already been registered\n",
      "2024-01-04 19:50:07.836524: E external/local_xla/xla/stream_executor/cuda/cuda_fft.cc:607] Unable to register cuFFT factory: Attempting to register factory for plugin cuFFT when one has already been registered\n",
      "2024-01-04 19:50:07.857965: E external/local_xla/xla/stream_executor/cuda/cuda_blas.cc:1515] Unable to register cuBLAS factory: Attempting to register factory for plugin cuBLAS when one has already been registered\n",
      "2024-01-04 19:50:07.907001: I tensorflow/core/platform/cpu_feature_guard.cc:182] This TensorFlow binary is optimized to use available CPU instructions in performance-critical operations.\n",
      "To enable the following instructions: AVX2 AVX512F AVX512_VNNI AVX512_BF16 FMA, in other operations, rebuild TensorFlow with the appropriate compiler flags.\n",
      "2024-01-04 19:50:08.465270: W tensorflow/compiler/tf2tensorrt/utils/py_utils.cc:38] TF-TRT Warning: Could not find TensorRT\n"
     ]
    }
   ],
   "source": [
    "import random\n",
    "import pandas as pd\n",
    "import numpy as np\n",
    "import matplotlib.pyplot as plt\n",
    "import tensorflow as tf\n",
    "import re\n",
    "from sklearn.feature_extraction.text import TfidfVectorizer\n",
    "from sklearn.naive_bayes import MultinomialNB\n",
    "from sklearn.pipeline import Pipeline\n",
    "import string\n",
    "import seaborn as sns\n",
    "from sklearn.metrics import classification_report, confusion_matrix\n",
    "from sklearn.model_selection import train_test_split\n",
    "from sklearn.preprocessing import OneHotEncoder\n",
    "from tensorflow.keras.layers import TextVectorization, Embedding, Bidirectional, Concatenate\n",
    "from tensorflow.keras.layers import Input, Conv1D, GlobalAveragePooling1D, Dense, LSTM, Dropout, Reshape\n",
    "from tensorflow.keras.losses import categorical_crossentropy\n",
    "from tensorflow.keras.optimizers import Adam\n",
    "from tensorflow.keras.models import Model\n",
    "import tensorflow_hub as hub\n",
    "from tensorflow.keras.preprocessing.text import Tokenizer\n",
    "from tensorflow.keras.preprocessing.sequence import pad_sequences"
   ]
  },
  {
   "cell_type": "code",
   "execution_count": 2,
   "id": "b50803e5-68fb-4419-8e9f-0f642d863084",
   "metadata": {},
   "outputs": [
    {
     "name": "stderr",
     "output_type": "stream",
     "text": [
      "2024-01-04 19:50:10.163416: I external/local_xla/xla/stream_executor/cuda/cuda_executor.cc:901] successful NUMA node read from SysFS had negative value (-1), but there must be at least one NUMA node, so returning NUMA node zero. See more at https://github.com/torvalds/linux/blob/v6.0/Documentation/ABI/testing/sysfs-bus-pci#L344-L355\n",
      "2024-01-04 19:50:10.239047: I external/local_xla/xla/stream_executor/cuda/cuda_executor.cc:901] successful NUMA node read from SysFS had negative value (-1), but there must be at least one NUMA node, so returning NUMA node zero. See more at https://github.com/torvalds/linux/blob/v6.0/Documentation/ABI/testing/sysfs-bus-pci#L344-L355\n",
      "2024-01-04 19:50:10.239193: I external/local_xla/xla/stream_executor/cuda/cuda_executor.cc:901] successful NUMA node read from SysFS had negative value (-1), but there must be at least one NUMA node, so returning NUMA node zero. See more at https://github.com/torvalds/linux/blob/v6.0/Documentation/ABI/testing/sysfs-bus-pci#L344-L355\n"
     ]
    },
    {
     "data": {
      "text/plain": [
       "[PhysicalDevice(name='/physical_device:CPU:0', device_type='CPU'),\n",
       " PhysicalDevice(name='/physical_device:GPU:0', device_type='GPU')]"
      ]
     },
     "execution_count": 2,
     "metadata": {},
     "output_type": "execute_result"
    }
   ],
   "source": [
    "tf.config.list_physical_devices()"
   ]
  },
  {
   "cell_type": "markdown",
   "id": "2670c921-aca6-44ae-9195-c323ac238e37",
   "metadata": {},
   "source": [
    "# Reading data"
   ]
  },
  {
   "cell_type": "code",
   "execution_count": 3,
   "id": "a5403cea-4fc4-497c-9b64-ac429ca84d18",
   "metadata": {},
   "outputs": [],
   "source": [
    "df = pd.read_csv('data/Corona_NLP_train.csv', encoding='latin1')\n",
    "df_test = pd.read_csv('data/Corona_NLP_test.csv',encoding='latin1')"
   ]
  },
  {
   "cell_type": "code",
   "execution_count": 4,
   "id": "23406e57-21e5-43e9-919c-37fc6f763dd1",
   "metadata": {},
   "outputs": [
    {
     "data": {
      "text/html": [
       "<div>\n",
       "<style scoped>\n",
       "    .dataframe tbody tr th:only-of-type {\n",
       "        vertical-align: middle;\n",
       "    }\n",
       "\n",
       "    .dataframe tbody tr th {\n",
       "        vertical-align: top;\n",
       "    }\n",
       "\n",
       "    .dataframe thead th {\n",
       "        text-align: right;\n",
       "    }\n",
       "</style>\n",
       "<table border=\"1\" class=\"dataframe\">\n",
       "  <thead>\n",
       "    <tr style=\"text-align: right;\">\n",
       "      <th></th>\n",
       "      <th>UserName</th>\n",
       "      <th>ScreenName</th>\n",
       "      <th>Location</th>\n",
       "      <th>TweetAt</th>\n",
       "      <th>OriginalTweet</th>\n",
       "      <th>Sentiment</th>\n",
       "    </tr>\n",
       "  </thead>\n",
       "  <tbody>\n",
       "    <tr>\n",
       "      <th>0</th>\n",
       "      <td>3799</td>\n",
       "      <td>48751</td>\n",
       "      <td>London</td>\n",
       "      <td>16-03-2020</td>\n",
       "      <td>@MeNyrbie @Phil_Gahan @Chrisitv https://t.co/i...</td>\n",
       "      <td>Neutral</td>\n",
       "    </tr>\n",
       "    <tr>\n",
       "      <th>1</th>\n",
       "      <td>3800</td>\n",
       "      <td>48752</td>\n",
       "      <td>UK</td>\n",
       "      <td>16-03-2020</td>\n",
       "      <td>advice Talk to your neighbours family to excha...</td>\n",
       "      <td>Positive</td>\n",
       "    </tr>\n",
       "    <tr>\n",
       "      <th>2</th>\n",
       "      <td>3801</td>\n",
       "      <td>48753</td>\n",
       "      <td>Vagabonds</td>\n",
       "      <td>16-03-2020</td>\n",
       "      <td>Coronavirus Australia: Woolworths to give elde...</td>\n",
       "      <td>Positive</td>\n",
       "    </tr>\n",
       "    <tr>\n",
       "      <th>3</th>\n",
       "      <td>3802</td>\n",
       "      <td>48754</td>\n",
       "      <td>NaN</td>\n",
       "      <td>16-03-2020</td>\n",
       "      <td>My food stock is not the only one which is emp...</td>\n",
       "      <td>Positive</td>\n",
       "    </tr>\n",
       "    <tr>\n",
       "      <th>4</th>\n",
       "      <td>3803</td>\n",
       "      <td>48755</td>\n",
       "      <td>NaN</td>\n",
       "      <td>16-03-2020</td>\n",
       "      <td>Me, ready to go at supermarket during the #COV...</td>\n",
       "      <td>Extremely Negative</td>\n",
       "    </tr>\n",
       "  </tbody>\n",
       "</table>\n",
       "</div>"
      ],
      "text/plain": [
       "   UserName  ScreenName   Location     TweetAt  \\\n",
       "0      3799       48751     London  16-03-2020   \n",
       "1      3800       48752         UK  16-03-2020   \n",
       "2      3801       48753  Vagabonds  16-03-2020   \n",
       "3      3802       48754        NaN  16-03-2020   \n",
       "4      3803       48755        NaN  16-03-2020   \n",
       "\n",
       "                                       OriginalTweet           Sentiment  \n",
       "0  @MeNyrbie @Phil_Gahan @Chrisitv https://t.co/i...             Neutral  \n",
       "1  advice Talk to your neighbours family to excha...            Positive  \n",
       "2  Coronavirus Australia: Woolworths to give elde...            Positive  \n",
       "3  My food stock is not the only one which is emp...            Positive  \n",
       "4  Me, ready to go at supermarket during the #COV...  Extremely Negative  "
      ]
     },
     "execution_count": 4,
     "metadata": {},
     "output_type": "execute_result"
    }
   ],
   "source": [
    "df.head()"
   ]
  },
  {
   "cell_type": "code",
   "execution_count": 5,
   "id": "e361eabc-7af9-48d1-96c2-8702ec29cdfb",
   "metadata": {},
   "outputs": [
    {
     "data": {
      "text/html": [
       "<div>\n",
       "<style scoped>\n",
       "    .dataframe tbody tr th:only-of-type {\n",
       "        vertical-align: middle;\n",
       "    }\n",
       "\n",
       "    .dataframe tbody tr th {\n",
       "        vertical-align: top;\n",
       "    }\n",
       "\n",
       "    .dataframe thead th {\n",
       "        text-align: right;\n",
       "    }\n",
       "</style>\n",
       "<table border=\"1\" class=\"dataframe\">\n",
       "  <thead>\n",
       "    <tr style=\"text-align: right;\">\n",
       "      <th></th>\n",
       "      <th>UserName</th>\n",
       "      <th>ScreenName</th>\n",
       "      <th>Location</th>\n",
       "      <th>TweetAt</th>\n",
       "      <th>OriginalTweet</th>\n",
       "      <th>Sentiment</th>\n",
       "    </tr>\n",
       "  </thead>\n",
       "  <tbody>\n",
       "    <tr>\n",
       "      <th>0</th>\n",
       "      <td>1</td>\n",
       "      <td>44953</td>\n",
       "      <td>NYC</td>\n",
       "      <td>02-03-2020</td>\n",
       "      <td>TRENDING: New Yorkers encounter empty supermar...</td>\n",
       "      <td>Extremely Negative</td>\n",
       "    </tr>\n",
       "    <tr>\n",
       "      <th>1</th>\n",
       "      <td>2</td>\n",
       "      <td>44954</td>\n",
       "      <td>Seattle, WA</td>\n",
       "      <td>02-03-2020</td>\n",
       "      <td>When I couldn't find hand sanitizer at Fred Me...</td>\n",
       "      <td>Positive</td>\n",
       "    </tr>\n",
       "    <tr>\n",
       "      <th>2</th>\n",
       "      <td>3</td>\n",
       "      <td>44955</td>\n",
       "      <td>NaN</td>\n",
       "      <td>02-03-2020</td>\n",
       "      <td>Find out how you can protect yourself and love...</td>\n",
       "      <td>Extremely Positive</td>\n",
       "    </tr>\n",
       "    <tr>\n",
       "      <th>3</th>\n",
       "      <td>4</td>\n",
       "      <td>44956</td>\n",
       "      <td>Chicagoland</td>\n",
       "      <td>02-03-2020</td>\n",
       "      <td>#Panic buying hits #NewYork City as anxious sh...</td>\n",
       "      <td>Negative</td>\n",
       "    </tr>\n",
       "    <tr>\n",
       "      <th>4</th>\n",
       "      <td>5</td>\n",
       "      <td>44957</td>\n",
       "      <td>Melbourne, Victoria</td>\n",
       "      <td>03-03-2020</td>\n",
       "      <td>#toiletpaper #dunnypaper #coronavirus #coronav...</td>\n",
       "      <td>Neutral</td>\n",
       "    </tr>\n",
       "  </tbody>\n",
       "</table>\n",
       "</div>"
      ],
      "text/plain": [
       "   UserName  ScreenName             Location     TweetAt  \\\n",
       "0         1       44953                  NYC  02-03-2020   \n",
       "1         2       44954          Seattle, WA  02-03-2020   \n",
       "2         3       44955                  NaN  02-03-2020   \n",
       "3         4       44956          Chicagoland  02-03-2020   \n",
       "4         5       44957  Melbourne, Victoria  03-03-2020   \n",
       "\n",
       "                                       OriginalTweet           Sentiment  \n",
       "0  TRENDING: New Yorkers encounter empty supermar...  Extremely Negative  \n",
       "1  When I couldn't find hand sanitizer at Fred Me...            Positive  \n",
       "2  Find out how you can protect yourself and love...  Extremely Positive  \n",
       "3  #Panic buying hits #NewYork City as anxious sh...            Negative  \n",
       "4  #toiletpaper #dunnypaper #coronavirus #coronav...             Neutral  "
      ]
     },
     "execution_count": 5,
     "metadata": {},
     "output_type": "execute_result"
    }
   ],
   "source": [
    "df_test.head()"
   ]
  },
  {
   "cell_type": "markdown",
   "id": "b67dc503-7b78-4136-8176-54972c8d4f4e",
   "metadata": {},
   "source": [
    "# Cleaning data"
   ]
  },
  {
   "cell_type": "code",
   "execution_count": 6,
   "id": "887ab75a-ac98-4052-ab27-971b52ee268a",
   "metadata": {},
   "outputs": [],
   "source": [
    "#Remove punctuations, links, mentions \n",
    "def strip_all_entities(text): \n",
    "    text = re.sub(r\"(?:\\@|https?\\://)\\S+\", \"\", text) #remove links and mentions\n",
    "    text = re.sub(r'[^\\x00-\\x7f]',r'', text) #remove non utf8/ascii characters such as '\\x9a\\x91\\x97\\x9a\\x97'\n",
    "    banned_list= string.punctuation + 'Ã'+'±'+'ã'+'¼'+'â'+'»'+'§'\n",
    "    table = str.maketrans('', '', banned_list)\n",
    "    text = text.translate(table)\n",
    "    return text\n",
    "\n",
    "#Clean hashtags at the end of the sentence, and keep those in the middle of the sentence by removing just the # symbol\n",
    "def clean_hashtags(tweet):\n",
    "    new_tweet = \" \".join(word.strip() for word in re.split('#(?!(?:hashtag)\\b)[\\w-]+(?=(?:\\s+#[\\w-]+)*\\s*$)', tweet)) #remove last hashtags\n",
    "    new_tweet2 = \" \".join(word.strip() for word in re.split('#|_', new_tweet)) #remove hashtags symbol from words in the middle of the sentence\n",
    "    return new_tweet2\n",
    "\n",
    "\n",
    "#Remove multiple spaces\n",
    "def remove_mult_spaces(text): \n",
    "    return re.sub(\"\\s\\s+\" , \" \", text)"
   ]
  },
  {
   "cell_type": "code",
   "execution_count": 7,
   "id": "258ae574-3125-4737-aaed-bfcfc0338aee",
   "metadata": {},
   "outputs": [],
   "source": [
    "df['text'] = df['OriginalTweet'].apply(lambda text: remove_mult_spaces(clean_hashtags(strip_all_entities(text))))\n",
    "df_test['text'] = df_test['OriginalTweet'].apply(lambda text: remove_mult_spaces(clean_hashtags(strip_all_entities(text))))"
   ]
  },
  {
   "cell_type": "code",
   "execution_count": 8,
   "id": "11029c25-b5d9-430a-a8b3-94fa70675fa9",
   "metadata": {},
   "outputs": [
    {
     "data": {
      "text/plain": [
       "0                                              and and\n",
       "1    advice Talk to your neighbours family to excha...\n",
       "2    Coronavirus Australia Woolworths to give elder...\n",
       "3    My food stock is not the only one which is emp...\n",
       "4    Me ready to go at supermarket during the COVID...\n",
       "Name: text, dtype: object"
      ]
     },
     "execution_count": 8,
     "metadata": {},
     "output_type": "execute_result"
    }
   ],
   "source": [
    "df['text'].head()"
   ]
  },
  {
   "cell_type": "markdown",
   "id": "a2941546-6588-4cef-83c6-075aa5a6198f",
   "metadata": {},
   "source": [
    "# Exploring data"
   ]
  },
  {
   "cell_type": "code",
   "execution_count": 9,
   "id": "438bbba3-c56d-4160-b8c3-7b7add654c4b",
   "metadata": {},
   "outputs": [
    {
     "name": "stdout",
     "output_type": "stream",
     "text": [
      "train data:\n",
      "UserName            0\n",
      "ScreenName          0\n",
      "Location         8590\n",
      "TweetAt             0\n",
      "OriginalTweet       0\n",
      "Sentiment           0\n",
      "text                0\n",
      "dtype: int64\n",
      "\n",
      "test data:\n",
      "UserName           0\n",
      "ScreenName         0\n",
      "Location         834\n",
      "TweetAt            0\n",
      "OriginalTweet      0\n",
      "Sentiment          0\n",
      "text               0\n",
      "dtype: int64\n"
     ]
    }
   ],
   "source": [
    "print('train data:')\n",
    "print(df.isnull().sum())\n",
    "print('\\ntest data:')\n",
    "print(df_test.isnull().sum())"
   ]
  },
  {
   "cell_type": "code",
   "execution_count": 10,
   "id": "afec71f8-90a6-4b37-9930-3059123dc9fb",
   "metadata": {},
   "outputs": [
    {
     "name": "stdout",
     "output_type": "stream",
     "text": [
      "<class 'pandas.core.frame.DataFrame'>\n",
      "RangeIndex: 41157 entries, 0 to 41156\n",
      "Data columns (total 7 columns):\n",
      " #   Column         Non-Null Count  Dtype \n",
      "---  ------         --------------  ----- \n",
      " 0   UserName       41157 non-null  int64 \n",
      " 1   ScreenName     41157 non-null  int64 \n",
      " 2   Location       32567 non-null  object\n",
      " 3   TweetAt        41157 non-null  object\n",
      " 4   OriginalTweet  41157 non-null  object\n",
      " 5   Sentiment      41157 non-null  object\n",
      " 6   text           41157 non-null  object\n",
      "dtypes: int64(2), object(5)\n",
      "memory usage: 2.2+ MB\n",
      "None\n",
      "\n",
      "\n",
      "<class 'pandas.core.frame.DataFrame'>\n",
      "RangeIndex: 3798 entries, 0 to 3797\n",
      "Data columns (total 7 columns):\n",
      " #   Column         Non-Null Count  Dtype \n",
      "---  ------         --------------  ----- \n",
      " 0   UserName       3798 non-null   int64 \n",
      " 1   ScreenName     3798 non-null   int64 \n",
      " 2   Location       2964 non-null   object\n",
      " 3   TweetAt        3798 non-null   object\n",
      " 4   OriginalTweet  3798 non-null   object\n",
      " 5   Sentiment      3798 non-null   object\n",
      " 6   text           3798 non-null   object\n",
      "dtypes: int64(2), object(5)\n",
      "memory usage: 207.8+ KB\n",
      "None\n"
     ]
    }
   ],
   "source": [
    "print(df.info())\n",
    "print('\\n')\n",
    "print(df_test.info())"
   ]
  },
  {
   "cell_type": "code",
   "execution_count": 11,
   "id": "61264bf6-39f4-4f6b-a216-b34b45814da8",
   "metadata": {},
   "outputs": [
    {
     "name": "stdout",
     "output_type": "stream",
     "text": [
      "Train data shape: (41157, 7) \n",
      "Test data shape: (3798, 7)\n",
      "\n",
      "Unique Sentiments: ['Neutral' 'Positive' 'Extremely Negative' 'Negative' 'Extremely Positive'] \n",
      "Train data Sentiments values counts: Sentiment\n",
      "Positive              11422\n",
      "Negative               9917\n",
      "Neutral                7713\n",
      "Extremely Positive     6624\n",
      "Extremely Negative     5481\n",
      "Name: count, dtype: int64 \n",
      "----------\n",
      "Test data Sentiments values counts: Sentiment\n",
      "Negative              1041\n",
      "Positive               947\n",
      "Neutral                619\n",
      "Extremely Positive     599\n",
      "Extremely Negative     592\n",
      "Name: count, dtype: int64\n"
     ]
    }
   ],
   "source": [
    "print(f\"Train data shape: {df.shape} \\nTest data shape: {df_test.shape}\")\n",
    "print(f\"\\nUnique Sentiments: {df.Sentiment.unique()} \\nTrain data Sentiments values counts: {df.Sentiment.value_counts()} \\n----------\\nTest data Sentiments values counts: {df_test.Sentiment.value_counts()}\")"
   ]
  },
  {
   "cell_type": "code",
   "execution_count": 12,
   "id": "fb79de29-e116-4971-9ce4-b48a4df9808a",
   "metadata": {},
   "outputs": [
    {
     "name": "stdout",
     "output_type": "stream",
     "text": [
      "                       Train\n",
      "\n"
     ]
    },
    {
     "data": {
      "image/png": "[encoded data removed]",
      "text/plain": [
       "<Figure size 640x480 with 1 Axes>"
      ]
     },
     "metadata": {},
     "output_type": "display_data"
    },
    {
     "name": "stdout",
     "output_type": "stream",
     "text": [
      "--------------------------------------------------\n",
      "\n",
      "                       Test\n",
      "\n"
     ]
    },
    {
     "data": {
      "image/png": "[encoded data removed]",
      "text/plain": [
       "<Figure size 640x480 with 1 Axes>"
      ]
     },
     "metadata": {},
     "output_type": "display_data"
    }
   ],
   "source": [
    "print(' '*23+'Train\\n')\n",
    "class_df = df.groupby('Sentiment').count()['OriginalTweet'].reset_index().sort_values(by='OriginalTweet',ascending=False)\n",
    "percent_class=class_df['percent_class']=class_df['OriginalTweet']\n",
    "labels= class_df['Sentiment']\n",
    "colors = ['#00FF00','#FF0033','#00CCFF']\n",
    "circle,_,_ = plt.pie(percent_class,radius = 1.2,labels=labels,colors=colors,autopct=\"%.1f%%\")\n",
    "plt.setp(circle, width=0.6, edgecolor='white') \n",
    "plt.show()\n",
    "\n",
    "print('-'*50+'\\n\\n'+' '*23+'Test\\n')\n",
    "class_df_test = df_test.groupby('Sentiment').count()['OriginalTweet'].reset_index().sort_values(by='OriginalTweet',ascending=False)\n",
    "percent_class_test=class_df_test['percent_class']=class_df_test['OriginalTweet']\n",
    "circle,_,_ = plt.pie(percent_class_test,radius = 1.2,labels=labels,colors=colors,autopct=\"%.1f%%\")\n",
    "plt.setp(circle, width=0.6, edgecolor='white') \n",
    "plt.show()"
   ]
  },
  {
   "cell_type": "markdown",
   "id": "2b6ee939-a574-402f-9119-fc8f1a5030ca",
   "metadata": {},
   "source": [
    "## Tweets count"
   ]
  },
  {
   "cell_type": "code",
   "execution_count": 13,
   "id": "726a72d7-b156-4be8-978f-0dfff22c9967",
   "metadata": {},
   "outputs": [
    {
     "name": "stderr",
     "output_type": "stream",
     "text": [
      "/tmp/ipykernel_4357/2772167738.py:1: UserWarning: Parsing dates in %d-%m-%Y format when dayfirst=False (the default) was specified. Pass `dayfirst=True` or specify a format to silence this warning.\n",
      "  df['TweetAt'] = pd.to_datetime(df['TweetAt'])\n"
     ]
    }
   ],
   "source": [
    "df['TweetAt'] = pd.to_datetime(df['TweetAt'])\n",
    "tweets_per_day = df['TweetAt'].dt.strftime('%m-%d').value_counts().sort_index().reset_index(name='counts')"
   ]
  },
  {
   "cell_type": "code",
   "execution_count": 14,
   "id": "438c981a-9754-4737-864c-3798a4567a49",
   "metadata": {},
   "outputs": [
    {
     "data": {
      "image/png": "[encoded data removed]",
      "text/plain": [
       "<Figure size 2000x500 with 1 Axes>"
      ]
     },
     "metadata": {},
     "output_type": "display_data"
    }
   ],
   "source": [
    "plt.figure(figsize=(20,5))\n",
    "ax = sns.barplot(x='TweetAt', y='counts', data=tweets_per_day,edgecolor = 'black', palette='Greens_r', hue='TweetAt')\n",
    "plt.title('Tweets count')\n",
    "plt.yticks([])\n",
    "ax.bar_label(ax.containers[0])\n",
    "plt.ylabel('count')\n",
    "plt.xlabel('')\n",
    "plt.show()"
   ]
  },
  {
   "cell_type": "code",
   "execution_count": 15,
   "id": "59d9d5a4-02fa-4187-9e24-3042dd97b42e",
   "metadata": {},
   "outputs": [
    {
     "data": {
      "text/plain": [
       "<matplotlib.legend.Legend at 0x7f2a30d72680>"
      ]
     },
     "execution_count": 15,
     "metadata": {},
     "output_type": "execute_result"
    },
    {
     "data": {
      "image/png": "[encoded data removed]",
      "text/plain": [
       "<Figure size 2100x1200 with 1 Axes>"
      ]
     },
     "metadata": {},
     "output_type": "display_data"
    }
   ],
   "source": [
    "df['Day'] = df['TweetAt'].dt.date\n",
    "plt.figure(figsize=(21, 12))\n",
    "sns.countplot(x='Day', hue='Sentiment', data=df)\n",
    "plt.title('Tweets count')\n",
    "plt.xlabel('date')\n",
    "plt.ylabel('number of tweets')\n",
    "plt.xticks(rotation=45)\n",
    "plt.legend(title='Sentyment', loc='upper right')"
   ]
  },
  {
   "cell_type": "markdown",
   "id": "5338bb45-f438-401f-801c-589537912559",
   "metadata": {},
   "source": [
    "## Average length of sentence"
   ]
  },
  {
   "cell_type": "markdown",
   "id": "7b255510-cae7-4917-b7cd-633f69725afe",
   "metadata": {},
   "source": [
    "### sentence words len"
   ]
  },
  {
   "cell_type": "code",
   "execution_count": 16,
   "id": "04a43ffa-1f6f-4422-b1bc-5442ab8bb9be",
   "metadata": {},
   "outputs": [
    {
     "name": "stdout",
     "output_type": "stream",
     "text": [
      "29.191777826372185\n",
      "64\n",
      "0\n"
     ]
    }
   ],
   "source": [
    "sent_lens = [len(sentence.split()) for sentence in df['text']]\n",
    "avg_sent_len = np.mean(sent_lens)\n",
    "print(avg_sent_len), print(max(sent_lens)), print(min(sent_lens));"
   ]
  },
  {
   "cell_type": "code",
   "execution_count": 17,
   "id": "dd8a8fea-9210-40da-b0ae-7ee7c35cb237",
   "metadata": {},
   "outputs": [
    {
     "data": {
      "image/png": "[encoded data removed]",
      "text/plain": [
       "<Figure size 640x480 with 1 Axes>"
      ]
     },
     "metadata": {},
     "output_type": "display_data"
    }
   ],
   "source": [
    "# What's the distribution look like?\n",
    "plt.hist(sent_lens,bins=30,color='skyblue', edgecolor='black');"
   ]
  },
  {
   "cell_type": "code",
   "execution_count": 18,
   "id": "55b3f6de-1e69-465e-a4bf-e1809b0dc3c8",
   "metadata": {},
   "outputs": [
    {
     "data": {
      "text/plain": [
       "47"
      ]
     },
     "execution_count": 18,
     "metadata": {},
     "output_type": "execute_result"
    }
   ],
   "source": [
    "# How long of a sentence covers 95% of the lengths?\n",
    "output_seq_len = int(np.percentile(sent_lens,95))\n",
    "output_seq_len"
   ]
  },
  {
   "cell_type": "markdown",
   "id": "3dd7c50e-92a0-4c36-8ffc-7577aa85da3c",
   "metadata": {},
   "source": [
    "### sentence letter len"
   ]
  },
  {
   "cell_type": "code",
   "execution_count": 19,
   "id": "6d7e4fbf-8aeb-42a9-ab15-60563a6af561",
   "metadata": {},
   "outputs": [
    {
     "name": "stdout",
     "output_type": "stream",
     "text": [
      "175.3687586558787\n",
      "306\n",
      "0\n"
     ]
    }
   ],
   "source": [
    "let_lens = df['text'].apply(lambda x :len(x))\n",
    "avg_let_lens = np.mean(let_lens)\n",
    "print(avg_let_lens), print(max(let_lens)), print(min(let_lens));"
   ]
  },
  {
   "cell_type": "code",
   "execution_count": 20,
   "id": "a2eed83e-a3d5-4d38-92b5-c0fa0f1ef227",
   "metadata": {},
   "outputs": [
    {
     "data": {
      "image/png": "[encoded data removed]",
      "text/plain": [
       "<Figure size 640x480 with 1 Axes>"
      ]
     },
     "metadata": {},
     "output_type": "display_data"
    }
   ],
   "source": [
    "# What's the distribution look like?\n",
    "plt.hist(let_lens,bins=30,color='skyblue', edgecolor='black');"
   ]
  },
  {
   "cell_type": "code",
   "execution_count": 21,
   "id": "b2c7c7bd-b43a-4ed9-acd6-0d7b4644580a",
   "metadata": {},
   "outputs": [
    {
     "data": {
      "text/plain": [
       "264"
      ]
     },
     "execution_count": 21,
     "metadata": {},
     "output_type": "execute_result"
    }
   ],
   "source": [
    "# How long of a sentence covers 95% of the lengths?\n",
    "output_let_len = int(np.percentile(let_lens,95))\n",
    "output_let_len"
   ]
  },
  {
   "cell_type": "markdown",
   "id": "ee81bf44-3edb-4b2c-96bb-5592c14681b5",
   "metadata": {},
   "source": [
    "# Preparing data"
   ]
  },
  {
   "cell_type": "code",
   "execution_count": 22,
   "id": "0c274ffa-ec68-49bb-a551-4d1fc026e3cb",
   "metadata": {},
   "outputs": [],
   "source": [
    "def sentiments(text):\n",
    "    if text == 'Extremely Positive':\n",
    "        return 'positive'\n",
    "    elif text == 'Extremely Negative':\n",
    "        return 'negative'\n",
    "    elif text == 'Positive':\n",
    "        return 'positive'\n",
    "    elif text == 'Negative':\n",
    "        return 'negative'\n",
    "    else:\n",
    "        return 'neutral'"
   ]
  },
  {
   "cell_type": "code",
   "execution_count": 23,
   "id": "fe354d98-b6b0-4b17-808f-8e24415c0146",
   "metadata": {},
   "outputs": [],
   "source": [
    "df['Sentiment'] = df['Sentiment'].apply(lambda text: sentiments(text))\n",
    "df_test['Sentiment'] = df_test['Sentiment'].apply(lambda text: sentiments(text))"
   ]
  },
  {
   "cell_type": "code",
   "execution_count": 24,
   "id": "239bb312-7d93-4b42-9fbb-a0f43c0907fa",
   "metadata": {},
   "outputs": [],
   "source": [
    "l = {\"neutral\":0, \"positive\":1,\"negative\":2}\n",
    "df['Sentiment'] = df['Sentiment'].map(l)\n",
    "df_test['Sentiment'] = df_test['Sentiment'].map(l)"
   ]
  },
  {
   "cell_type": "code",
   "execution_count": 25,
   "id": "1c2b513a-4e23-4186-aac4-20b540e94bc2",
   "metadata": {},
   "outputs": [
    {
     "data": {
      "text/html": [
       "<div>\n",
       "<style scoped>\n",
       "    .dataframe tbody tr th:only-of-type {\n",
       "        vertical-align: middle;\n",
       "    }\n",
       "\n",
       "    .dataframe tbody tr th {\n",
       "        vertical-align: top;\n",
       "    }\n",
       "\n",
       "    .dataframe thead th {\n",
       "        text-align: right;\n",
       "    }\n",
       "</style>\n",
       "<table border=\"1\" class=\"dataframe\">\n",
       "  <thead>\n",
       "    <tr style=\"text-align: right;\">\n",
       "      <th></th>\n",
       "      <th>UserName</th>\n",
       "      <th>ScreenName</th>\n",
       "      <th>Location</th>\n",
       "      <th>TweetAt</th>\n",
       "      <th>OriginalTweet</th>\n",
       "      <th>Sentiment</th>\n",
       "      <th>text</th>\n",
       "      <th>Day</th>\n",
       "    </tr>\n",
       "  </thead>\n",
       "  <tbody>\n",
       "    <tr>\n",
       "      <th>0</th>\n",
       "      <td>3799</td>\n",
       "      <td>48751</td>\n",
       "      <td>London</td>\n",
       "      <td>2020-03-16</td>\n",
       "      <td>@MeNyrbie @Phil_Gahan @Chrisitv https://t.co/i...</td>\n",
       "      <td>0</td>\n",
       "      <td>and and</td>\n",
       "      <td>2020-03-16</td>\n",
       "    </tr>\n",
       "    <tr>\n",
       "      <th>1</th>\n",
       "      <td>3800</td>\n",
       "      <td>48752</td>\n",
       "      <td>UK</td>\n",
       "      <td>2020-03-16</td>\n",
       "      <td>advice Talk to your neighbours family to excha...</td>\n",
       "      <td>1</td>\n",
       "      <td>advice Talk to your neighbours family to excha...</td>\n",
       "      <td>2020-03-16</td>\n",
       "    </tr>\n",
       "    <tr>\n",
       "      <th>2</th>\n",
       "      <td>3801</td>\n",
       "      <td>48753</td>\n",
       "      <td>Vagabonds</td>\n",
       "      <td>2020-03-16</td>\n",
       "      <td>Coronavirus Australia: Woolworths to give elde...</td>\n",
       "      <td>1</td>\n",
       "      <td>Coronavirus Australia Woolworths to give elder...</td>\n",
       "      <td>2020-03-16</td>\n",
       "    </tr>\n",
       "    <tr>\n",
       "      <th>3</th>\n",
       "      <td>3802</td>\n",
       "      <td>48754</td>\n",
       "      <td>NaN</td>\n",
       "      <td>2020-03-16</td>\n",
       "      <td>My food stock is not the only one which is emp...</td>\n",
       "      <td>1</td>\n",
       "      <td>My food stock is not the only one which is emp...</td>\n",
       "      <td>2020-03-16</td>\n",
       "    </tr>\n",
       "    <tr>\n",
       "      <th>4</th>\n",
       "      <td>3803</td>\n",
       "      <td>48755</td>\n",
       "      <td>NaN</td>\n",
       "      <td>2020-03-16</td>\n",
       "      <td>Me, ready to go at supermarket during the #COV...</td>\n",
       "      <td>2</td>\n",
       "      <td>Me ready to go at supermarket during the COVID...</td>\n",
       "      <td>2020-03-16</td>\n",
       "    </tr>\n",
       "  </tbody>\n",
       "</table>\n",
       "</div>"
      ],
      "text/plain": [
       "   UserName  ScreenName   Location    TweetAt  \\\n",
       "0      3799       48751     London 2020-03-16   \n",
       "1      3800       48752         UK 2020-03-16   \n",
       "2      3801       48753  Vagabonds 2020-03-16   \n",
       "3      3802       48754        NaN 2020-03-16   \n",
       "4      3803       48755        NaN 2020-03-16   \n",
       "\n",
       "                                       OriginalTweet  Sentiment  \\\n",
       "0  @MeNyrbie @Phil_Gahan @Chrisitv https://t.co/i...          0   \n",
       "1  advice Talk to your neighbours family to excha...          1   \n",
       "2  Coronavirus Australia: Woolworths to give elde...          1   \n",
       "3  My food stock is not the only one which is emp...          1   \n",
       "4  Me, ready to go at supermarket during the #COV...          2   \n",
       "\n",
       "                                                text         Day  \n",
       "0                                            and and  2020-03-16  \n",
       "1  advice Talk to your neighbours family to excha...  2020-03-16  \n",
       "2  Coronavirus Australia Woolworths to give elder...  2020-03-16  \n",
       "3  My food stock is not the only one which is emp...  2020-03-16  \n",
       "4  Me ready to go at supermarket during the COVID...  2020-03-16  "
      ]
     },
     "execution_count": 25,
     "metadata": {},
     "output_type": "execute_result"
    }
   ],
   "source": [
    "df.head()"
   ]
  },
  {
   "cell_type": "code",
   "execution_count": 26,
   "id": "803c7f59-de3c-4876-8a6f-6fa34a35f1d4",
   "metadata": {},
   "outputs": [],
   "source": [
    "X = df['text']\n",
    "y = df['Sentiment']"
   ]
  },
  {
   "cell_type": "code",
   "execution_count": 27,
   "id": "c0aa9d33-76af-4a20-bc52-d7ac2e7c2eba",
   "metadata": {},
   "outputs": [],
   "source": [
    "X_train, X_valid, y_train, y_valid = train_test_split(X,y,\n",
    "                                                      random_state=23,\n",
    "                                                     test_size=0.15)\n",
    "X_test = df_test['text']\n",
    "y_test = df_test['Sentiment']"
   ]
  },
  {
   "cell_type": "code",
   "execution_count": 28,
   "id": "5d2c8310-927d-4d44-8b33-ff88252256e9",
   "metadata": {},
   "outputs": [
    {
     "data": {
      "text/plain": [
       "(34983, 6174, 3798)"
      ]
     },
     "execution_count": 28,
     "metadata": {},
     "output_type": "execute_result"
    }
   ],
   "source": [
    "len(X_train), len(X_valid), len(X_test)"
   ]
  },
  {
   "cell_type": "code",
   "execution_count": 29,
   "id": "a3fac7bc-546d-4053-9f15-9432f522aa78",
   "metadata": {},
   "outputs": [
    {
     "data": {
      "text/plain": [
       "(34983, 6174, 3798)"
      ]
     },
     "execution_count": 29,
     "metadata": {},
     "output_type": "execute_result"
    }
   ],
   "source": [
    "len(y_train), len(y_valid), len(y_test)"
   ]
  },
  {
   "cell_type": "markdown",
   "id": "4b9229ae-2460-4e41-aeb7-1f4ef6d30f5a",
   "metadata": {},
   "source": [
    "# Model 0: baseline"
   ]
  },
  {
   "cell_type": "code",
   "execution_count": 30,
   "id": "0c31a9f9-f187-4bf9-8901-e07bcaec44ab",
   "metadata": {},
   "outputs": [],
   "source": [
    "model_0 = Pipeline([\n",
    "  (\"tf-idf\", TfidfVectorizer()),\n",
    "  (\"clf\", MultinomialNB())\n",
    "])\n",
    "\n",
    "# Fit the pipeline to the training data\n",
    "model_0.fit(X=X_train, \n",
    "            y=y_train);"
   ]
  },
  {
   "cell_type": "code",
   "execution_count": 31,
   "id": "1f3ace05-b7e9-495b-852e-314149601a2d",
   "metadata": {},
   "outputs": [
    {
     "data": {
      "text/plain": [
       "0.6290152711953659"
      ]
     },
     "execution_count": 31,
     "metadata": {},
     "output_type": "execute_result"
    }
   ],
   "source": [
    "baseline_socre = model_0.score(X=X_test, \n",
    "                               y=y_test)\n",
    "baseline_socre"
   ]
  },
  {
   "cell_type": "code",
   "execution_count": 32,
   "id": "4af36852-6c5a-4dd2-97d3-e852ff8655c9",
   "metadata": {},
   "outputs": [],
   "source": [
    "baseline_preds = model_0.predict(X_test)"
   ]
  },
  {
   "cell_type": "code",
   "execution_count": 33,
   "id": "f40ddd8d-a4cd-4f89-bdd9-41202afae25a",
   "metadata": {},
   "outputs": [
    {
     "name": "stdout",
     "output_type": "stream",
     "text": [
      "              precision    recall  f1-score   support\n",
      "\n",
      "           0       0.75      0.00      0.01       619\n",
      "           1       0.56      0.91      0.69      1546\n",
      "           2       0.76      0.60      0.67      1633\n",
      "\n",
      "    accuracy                           0.63      3798\n",
      "   macro avg       0.69      0.50      0.46      3798\n",
      "weighted avg       0.68      0.63      0.57      3798\n",
      "\n"
     ]
    }
   ],
   "source": [
    "baseline_class_report = classification_report(y_test,baseline_preds)\n",
    "print(baseline_class_report)"
   ]
  },
  {
   "cell_type": "code",
   "execution_count": 34,
   "id": "c9de5b55-8012-42f7-9327-97332432a056",
   "metadata": {},
   "outputs": [
    {
     "data": {
      "text/plain": [
       "<Axes: >"
      ]
     },
     "execution_count": 34,
     "metadata": {},
     "output_type": "execute_result"
    },
    {
     "data": {
      "image/png": "[encoded data removed]",
      "text/plain": [
       "<Figure size 640x480 with 2 Axes>"
      ]
     },
     "metadata": {},
     "output_type": "display_data"
    }
   ],
   "source": [
    "sns.heatmap(confusion_matrix(y_test,baseline_preds), annot=True, fmt='d')"
   ]
  },
  {
   "cell_type": "markdown",
   "id": "cb60fb90-4623-4f7d-b4cd-bb3d0132ea7e",
   "metadata": {},
   "source": [
    "# Preparing for deep models"
   ]
  },
  {
   "cell_type": "markdown",
   "id": "607274c9-4f8e-40c5-b37a-eca0bba7e62a",
   "metadata": {},
   "source": [
    "## One hot encode labels"
   ]
  },
  {
   "cell_type": "code",
   "execution_count": 35,
   "id": "6fa6c8f9-18eb-44ca-bb52-21ceab5ac92c",
   "metadata": {},
   "outputs": [],
   "source": [
    "one_hot = OneHotEncoder()\n",
    "y_train_one_hot = one_hot.fit_transform(np.array(y_train).reshape(-1,1)).toarray()\n",
    "y_valid_one_hot = one_hot.fit_transform(np.array(y_valid).reshape(-1,1)).toarray()\n",
    "y_test_one_hot = one_hot.fit_transform(np.array(y_test).reshape(-1,1)).toarray()"
   ]
  },
  {
   "cell_type": "code",
   "execution_count": 36,
   "id": "7775a46e-ebcf-42a9-b5a6-021ec45917b5",
   "metadata": {},
   "outputs": [
    {
     "data": {
      "text/plain": [
       "array([[0., 0., 1.],\n",
       "       [0., 1., 0.],\n",
       "       [0., 1., 0.],\n",
       "       ...,\n",
       "       [1., 0., 0.],\n",
       "       [0., 0., 1.],\n",
       "       [0., 1., 0.]])"
      ]
     },
     "execution_count": 36,
     "metadata": {},
     "output_type": "execute_result"
    }
   ],
   "source": [
    "y_test_one_hot"
   ]
  },
  {
   "cell_type": "markdown",
   "id": "f271d6fc-0618-498d-b572-e8e5e90680ca",
   "metadata": {},
   "source": [
    "## Create text vectorizer"
   ]
  },
  {
   "cell_type": "code",
   "execution_count": 37,
   "id": "eef2231f-5745-4a6f-ab48-803408661eab",
   "metadata": {},
   "outputs": [
    {
     "name": "stdout",
     "output_type": "stream",
     "text": [
      "67972\n"
     ]
    }
   ],
   "source": [
    "# How many words are in vocabluary\n",
    "all_data = pd.concat([X_train, X_valid, X_test])\n",
    "words_series = all_data.str.split().explode()\n",
    "unique_words_count = words_series.nunique()\n",
    "print(unique_words_count)"
   ]
  },
  {
   "cell_type": "code",
   "execution_count": 38,
   "id": "150c60cd-3077-4f63-9850-09023f886e7b",
   "metadata": {},
   "outputs": [
    {
     "name": "stderr",
     "output_type": "stream",
     "text": [
      "2024-01-04 19:50:27.913650: I external/local_xla/xla/stream_executor/cuda/cuda_executor.cc:901] successful NUMA node read from SysFS had negative value (-1), but there must be at least one NUMA node, so returning NUMA node zero. See more at https://github.com/torvalds/linux/blob/v6.0/Documentation/ABI/testing/sysfs-bus-pci#L344-L355\n",
      "2024-01-04 19:50:27.913807: I external/local_xla/xla/stream_executor/cuda/cuda_executor.cc:901] successful NUMA node read from SysFS had negative value (-1), but there must be at least one NUMA node, so returning NUMA node zero. See more at https://github.com/torvalds/linux/blob/v6.0/Documentation/ABI/testing/sysfs-bus-pci#L344-L355\n",
      "2024-01-04 19:50:27.913903: I external/local_xla/xla/stream_executor/cuda/cuda_executor.cc:901] successful NUMA node read from SysFS had negative value (-1), but there must be at least one NUMA node, so returning NUMA node zero. See more at https://github.com/torvalds/linux/blob/v6.0/Documentation/ABI/testing/sysfs-bus-pci#L344-L355\n",
      "2024-01-04 19:50:27.965632: I external/local_xla/xla/stream_executor/cuda/cuda_executor.cc:901] successful NUMA node read from SysFS had negative value (-1), but there must be at least one NUMA node, so returning NUMA node zero. See more at https://github.com/torvalds/linux/blob/v6.0/Documentation/ABI/testing/sysfs-bus-pci#L344-L355\n",
      "2024-01-04 19:50:27.965762: I external/local_xla/xla/stream_executor/cuda/cuda_executor.cc:901] successful NUMA node read from SysFS had negative value (-1), but there must be at least one NUMA node, so returning NUMA node zero. See more at https://github.com/torvalds/linux/blob/v6.0/Documentation/ABI/testing/sysfs-bus-pci#L344-L355\n",
      "2024-01-04 19:50:27.965867: I external/local_xla/xla/stream_executor/cuda/cuda_executor.cc:901] successful NUMA node read from SysFS had negative value (-1), but there must be at least one NUMA node, so returning NUMA node zero. See more at https://github.com/torvalds/linux/blob/v6.0/Documentation/ABI/testing/sysfs-bus-pci#L344-L355\n",
      "2024-01-04 19:50:27.965950: I tensorflow/core/common_runtime/gpu/gpu_device.cc:1929] Created device /job:localhost/replica:0/task:0/device:GPU:0 with 9714 MB memory:  -> device: 0, name: NVIDIA GeForce RTX 4070 Ti, pci bus id: 0000:01:00.0, compute capability: 8.9\n"
     ]
    }
   ],
   "source": [
    "text_vectorizer = TextVectorization(max_tokens=unique_words_count,\n",
    "                                   output_sequence_length=output_seq_len)"
   ]
  },
  {
   "cell_type": "code",
   "execution_count": 39,
   "id": "ab366dff-9141-4e5e-bdea-a2c2d10c377e",
   "metadata": {},
   "outputs": [],
   "source": [
    "# text_vectorizer.adapt(all_data)\n",
    "text_vectorizer.adapt(X_train)"
   ]
  },
  {
   "cell_type": "code",
   "execution_count": 40,
   "id": "8d700214-ff13-43d5-870a-15cdc19f7966",
   "metadata": {},
   "outputs": [
    {
     "name": "stdout",
     "output_type": "stream",
     "text": [
      "Text:\n",
      "In The News Nervous consumers hoard groceries and restaurants go takeout while unemployment skyrockets and food pantries suffer But solutions exist looks at rising food waste amp food insecurity amid coronavirus panic food waste news\n",
      "\n",
      "Length of text: 35\n"
     ]
    },
    {
     "name": "stderr",
     "output_type": "stream",
     "text": [
      "2024-01-04 19:50:29.035044: I external/local_tsl/tsl/platform/default/subprocess.cc:304] Start cannot spawn child process: No such file or directory\n"
     ]
    },
    {
     "name": "stdout",
     "output_type": "stream",
     "text": [
      "\n",
      "Vectorized text:\n",
      "[[   7    2  196 3091  222  883  297    4  446   76 2024  148  886 7426\n",
      "     4   19 1401 2004   50 1783 4205  754   18  869   19 1118   32   19\n",
      "  2774  164    8   70   19 1118  196    0    0    0    0    0    0    0\n",
      "     0    0    0    0    0]]\n"
     ]
    }
   ],
   "source": [
    "random_row = X_train.sample().iloc[0]\n",
    "target_sentence = random_row\n",
    "\n",
    "print(f\"Text:\\n{target_sentence}\")\n",
    "print(f\"\\nLength of text: {len(target_sentence.split())}\")\n",
    "# Assuming text_vectorizer is a function that vectorizes text\n",
    "print(f\"\\nVectorized text:\\n{text_vectorizer([target_sentence])}\")"
   ]
  },
  {
   "cell_type": "code",
   "execution_count": 41,
   "id": "fa14811c-2fe4-4bb1-bf76-a01a0d7139aa",
   "metadata": {},
   "outputs": [
    {
     "name": "stdout",
     "output_type": "stream",
     "text": [
      "Number of words in vocabulary: 46668\n",
      "Most common words in the vocabulary: ['', '[UNK]', 'the', 'to', 'and', 'of', 'a', 'in', 'coronavirus', 'covid19']\n",
      "Least common words in the vocabulary: ['00541296', '005', '0025450557', '0016', '0010', '000francs', '0006', '0000hrs', '000042', '0000009375']\n"
     ]
    }
   ],
   "source": [
    "numb_vocab = text_vectorizer.get_vocabulary()\n",
    "print(f\"Number of words in vocabulary: {len(numb_vocab)}\"), \n",
    "print(f\"Most common words in the vocabulary: {numb_vocab[:10]}\")\n",
    "print(f\"Least common words in the vocabulary: {numb_vocab[-10:]}\")"
   ]
  },
  {
   "cell_type": "code",
   "execution_count": 42,
   "id": "94c89aa2-434e-4328-8cf8-ba028487ceb8",
   "metadata": {},
   "outputs": [
    {
     "data": {
      "text/plain": [
       "{'name': 'text_vectorization',\n",
       " 'trainable': True,\n",
       " 'dtype': 'string',\n",
       " 'batch_input_shape': (None, None),\n",
       " 'max_tokens': 67972,\n",
       " 'standardize': 'lower_and_strip_punctuation',\n",
       " 'split': 'whitespace',\n",
       " 'ngrams': None,\n",
       " 'output_mode': 'int',\n",
       " 'output_sequence_length': 47,\n",
       " 'pad_to_max_tokens': False,\n",
       " 'sparse': False,\n",
       " 'ragged': False,\n",
       " 'vocabulary': None,\n",
       " 'idf_weights': None,\n",
       " 'encoding': 'utf-8',\n",
       " 'vocabulary_size': 46668}"
      ]
     },
     "execution_count": 42,
     "metadata": {},
     "output_type": "execute_result"
    }
   ],
   "source": [
    "text_vectorizer.get_config()"
   ]
  },
  {
   "cell_type": "markdown",
   "id": "4aa87d3e-7563-4b15-bbf8-80ac01bbd93b",
   "metadata": {},
   "source": [
    "## Create text embedding"
   ]
  },
  {
   "cell_type": "code",
   "execution_count": 43,
   "id": "0c2c0812-7717-4f11-8fac-c9f8cd613486",
   "metadata": {},
   "outputs": [
    {
     "name": "stdout",
     "output_type": "stream",
     "text": [
      "Sentence before vectorization:\n",
      "In The News Nervous consumers hoard groceries and restaurants go takeout while unemployment skyrockets and food pantries suffer But solutions exist looks at rising food waste amp food insecurity amid coronavirus panic food waste news\n",
      "\n",
      "Sentence after vectorization (before embedding):\n",
      "[[   7    2  196 3091  222  883  297    4  446   76 2024  148  886 7426\n",
      "     4   19 1401 2004   50 1783 4205  754   18  869   19 1118   32   19\n",
      "  2774  164    8   70   19 1118  196    0    0    0    0    0    0    0\n",
      "     0    0    0    0    0]]\n",
      "\n",
      "Sentence after embedding:\n",
      "[[[ 0.00150998 -0.01893221 -0.04020922 ... -0.00465427  0.01803518\n",
      "   -0.02395798]\n",
      "  [-0.01533991  0.01376498 -0.04273553 ...  0.04676751 -0.01984396\n",
      "    0.02920065]\n",
      "  [ 0.0310892  -0.0046837   0.03589258 ...  0.00833862  0.01873137\n",
      "   -0.01825251]\n",
      "  ...\n",
      "  [-0.02540242  0.00290836  0.02203776 ... -0.01491674 -0.00736193\n",
      "    0.03645397]\n",
      "  [-0.02540242  0.00290836  0.02203776 ... -0.01491674 -0.00736193\n",
      "    0.03645397]\n",
      "  [-0.02540242  0.00290836  0.02203776 ... -0.01491674 -0.00736193\n",
      "    0.03645397]]]\n",
      "\n",
      "Embedded sentence shape: (1, 47, 256)\n"
     ]
    }
   ],
   "source": [
    "token_embed = Embedding(input_dim=len(numb_vocab),\n",
    "                        output_dim=256,\n",
    "                        mask_zero=True)\n",
    "\n",
    "print(f\"Sentence before vectorization:\\n{target_sentence}\\n\")\n",
    "vectorized_sentence = text_vectorizer([target_sentence])\n",
    "print(f\"Sentence after vectorization (before embedding):\\n{vectorized_sentence}\\n\")\n",
    "embedded_sentence = token_embed(vectorized_sentence)\n",
    "print(f\"Sentence after embedding:\\n{embedded_sentence}\\n\")\n",
    "print(f\"Embedded sentence shape: {embedded_sentence.shape}\")"
   ]
  },
  {
   "cell_type": "markdown",
   "id": "12cea595-7c3d-422b-9d78-264b4df47115",
   "metadata": {},
   "source": [
    "## Create datasets"
   ]
  },
  {
   "cell_type": "code",
   "execution_count": 44,
   "id": "09c57a67-94f4-4a56-b7a9-7fb6382d88f0",
   "metadata": {},
   "outputs": [
    {
     "data": {
      "text/plain": [
       "<_TensorSliceDataset element_spec=(TensorSpec(shape=(), dtype=tf.string, name=None), TensorSpec(shape=(3,), dtype=tf.float64, name=None))>"
      ]
     },
     "execution_count": 44,
     "metadata": {},
     "output_type": "execute_result"
    }
   ],
   "source": [
    "#Turn data into Tensorflow Datasets\n",
    "train_dataset = tf.data.Dataset.from_tensor_slices((X_train,y_train_one_hot))\n",
    "valid_dataset = tf.data.Dataset.from_tensor_slices((X_valid,y_valid_one_hot))\n",
    "test_dataset = tf.data.Dataset.from_tensor_slices((X_test,y_test_one_hot))\n",
    "\n",
    "train_dataset"
   ]
  },
  {
   "cell_type": "code",
   "execution_count": 45,
   "id": "9159face-30f7-421c-95b8-1b5cb504e304",
   "metadata": {},
   "outputs": [
    {
     "data": {
      "text/plain": [
       "<_PrefetchDataset element_spec=(TensorSpec(shape=(None,), dtype=tf.string, name=None), TensorSpec(shape=(None, 3), dtype=tf.float64, name=None))>"
      ]
     },
     "execution_count": 45,
     "metadata": {},
     "output_type": "execute_result"
    }
   ],
   "source": [
    "# Turn Datasets into prefetched batches\n",
    "train_dataset = train_dataset.batch(32).prefetch(tf.data.AUTOTUNE)\n",
    "valid_dataset = valid_dataset.batch(32).prefetch(tf.data.AUTOTUNE)\n",
    "test_dataset = test_dataset.batch(32).prefetch(tf.data.AUTOTUNE)\n",
    "\n",
    "train_dataset"
   ]
  },
  {
   "cell_type": "markdown",
   "id": "571bd8c4-24e8-4cdf-bd13-919744386ac5",
   "metadata": {},
   "source": [
    "## Create callback"
   ]
  },
  {
   "cell_type": "code",
   "execution_count": 46,
   "id": "2ef21a53-a011-4116-af89-be7307fa5dc8",
   "metadata": {},
   "outputs": [],
   "source": [
    "stop_early = tf.keras.callbacks.EarlyStopping(monitor='val_loss',\n",
    "                                             patience=3,\n",
    "                                              restore_best_weights=True,\n",
    "                                             verbose=1)"
   ]
  },
  {
   "cell_type": "markdown",
   "id": "7345350f-6395-4a01-9587-3bf140adb7e6",
   "metadata": {},
   "source": [
    "# Model 1: Conv1D"
   ]
  },
  {
   "cell_type": "code",
   "execution_count": 47,
   "id": "25208884-e859-4efa-82a5-73153b852f84",
   "metadata": {},
   "outputs": [
    {
     "name": "stdout",
     "output_type": "stream",
     "text": [
      "Model: \"model\"\n",
      "_________________________________________________________________\n",
      " Layer (type)                Output Shape              Param #   \n",
      "=================================================================\n",
      " input_1 (InputLayer)        [(None, 1)]               0         \n",
      "                                                                 \n",
      " text_vectorization (TextVe  (None, 47)                0         \n",
      " ctorization)                                                    \n",
      "                                                                 \n",
      " embedding (Embedding)       (None, 47, 256)           11947008  \n",
      "                                                                 \n",
      " conv1d (Conv1D)             (None, 47, 32)            16416     \n",
      "                                                                 \n",
      " global_average_pooling1d (  (None, 32)                0         \n",
      " GlobalAveragePooling1D)                                         \n",
      "                                                                 \n",
      " dense (Dense)               (None, 3)                 99        \n",
      "                                                                 \n",
      "=================================================================\n",
      "Total params: 11963523 (45.64 MB)\n",
      "Trainable params: 11963523 (45.64 MB)\n",
      "Non-trainable params: 0 (0.00 Byte)\n",
      "_________________________________________________________________\n"
     ]
    }
   ],
   "source": [
    "inputs = Input(shape=(1,), dtype=tf.string)\n",
    "text_vectors = text_vectorizer(inputs)\n",
    "token_embeddings = token_embed(text_vectors)\n",
    "x = Conv1D(32, kernel_size=2, padding='same' ,activation='relu')(token_embeddings)\n",
    "x = GlobalAveragePooling1D()(x)\n",
    "outputs = Dense(3, activation='softmax')(x)\n",
    "model_1 = Model(inputs,outputs)\n",
    "\n",
    "model_1.compile(loss=categorical_crossentropy,\n",
    "               optimizer=Adam(learning_rate=0.0001),\n",
    "               metrics=['accuracy'])\n",
    "model_1.summary()"
   ]
  },
  {
   "cell_type": "code",
   "execution_count": 48,
   "id": "028257e1-64a1-4e36-9926-097df56d9835",
   "metadata": {},
   "outputs": [
    {
     "name": "stdout",
     "output_type": "stream",
     "text": [
      "Epoch 1/10\n"
     ]
    },
    {
     "name": "stderr",
     "output_type": "stream",
     "text": [
      "2024-01-04 19:51:25.128512: I external/local_xla/xla/stream_executor/cuda/cuda_dnn.cc:454] Loaded cuDNN version 8904\n",
      "2024-01-04 19:51:25.228116: I external/local_tsl/tsl/platform/default/subprocess.cc:304] Start cannot spawn child process: No such file or directory\n",
      "2024-01-04 19:51:25.411861: I external/local_xla/xla/service/service.cc:168] XLA service 0x7f293d03f510 initialized for platform CUDA (this does not guarantee that XLA will be used). Devices:\n",
      "2024-01-04 19:51:25.411876: I external/local_xla/xla/service/service.cc:176]   StreamExecutor device (0): NVIDIA GeForce RTX 4070 Ti, Compute Capability 8.9\n",
      "2024-01-04 19:51:25.418354: I tensorflow/compiler/mlir/tensorflow/utils/dump_mlir_util.cc:269] disabling MLIR crash reproducer, set env var `MLIR_CRASH_REPRODUCER_DIRECTORY` to enable.\n",
      "WARNING: All log messages before absl::InitializeLog() is called are written to STDERR\n",
      "I0000 00:00:1704394285.479930    4502 device_compiler.h:186] Compiled cluster using XLA!  This line is logged at most once for the lifetime of the process.\n"
     ]
    },
    {
     "name": "stdout",
     "output_type": "stream",
     "text": [
      "1094/1094 [==============================] - 11s 9ms/step - loss: 1.0222 - accuracy: 0.4684 - val_loss: 0.9417 - val_accuracy: 0.5544\n",
      "Epoch 2/10\n",
      "1094/1094 [==============================] - 3s 3ms/step - loss: 0.8515 - accuracy: 0.6525 - val_loss: 0.7960 - val_accuracy: 0.6644\n",
      "Epoch 3/10\n",
      "1094/1094 [==============================] - 3s 3ms/step - loss: 0.7027 - accuracy: 0.7297 - val_loss: 0.7067 - val_accuracy: 0.7127\n",
      "Epoch 4/10\n",
      "1094/1094 [==============================] - 3s 3ms/step - loss: 0.5947 - accuracy: 0.7822 - val_loss: 0.6442 - val_accuracy: 0.7444\n",
      "Epoch 5/10\n",
      "1094/1094 [==============================] - 3s 3ms/step - loss: 0.5108 - accuracy: 0.8207 - val_loss: 0.5970 - val_accuracy: 0.7702\n",
      "Epoch 6/10\n",
      "1094/1094 [==============================] - 3s 3ms/step - loss: 0.4419 - accuracy: 0.8539 - val_loss: 0.5622 - val_accuracy: 0.7898\n",
      "Epoch 7/10\n",
      "1094/1094 [==============================] - 3s 3ms/step - loss: 0.3845 - accuracy: 0.8840 - val_loss: 0.5393 - val_accuracy: 0.8026\n",
      "Epoch 8/10\n",
      "1094/1094 [==============================] - 3s 3ms/step - loss: 0.3370 - accuracy: 0.9046 - val_loss: 0.5273 - val_accuracy: 0.8094\n",
      "Epoch 9/10\n",
      "1094/1094 [==============================] - 3s 3ms/step - loss: 0.2980 - accuracy: 0.9180 - val_loss: 0.5237 - val_accuracy: 0.8136\n",
      "Epoch 10/10\n",
      "1094/1094 [==============================] - 3s 3ms/step - loss: 0.2657 - accuracy: 0.9294 - val_loss: 0.5257 - val_accuracy: 0.8154\n"
     ]
    }
   ],
   "source": [
    "tf.random.set_seed(23)\n",
    "model_1_history = model_1.fit(train_dataset,\n",
    "                             epochs=10,\n",
    "                             validation_data=valid_dataset,\n",
    "                             callbacks=[stop_early])"
   ]
  },
  {
   "cell_type": "code",
   "execution_count": 49,
   "id": "d6ebc81b-9ee2-43be-aaf1-3a2f2f1a99df",
   "metadata": {},
   "outputs": [
    {
     "name": "stdout",
     "output_type": "stream",
     "text": [
      "119/119 [==============================] - 0s 1ms/step - loss: 0.5929 - accuracy: 0.7938\n"
     ]
    },
    {
     "data": {
      "text/plain": [
       "[0.5929184556007385, 0.7938388586044312]"
      ]
     },
     "execution_count": 49,
     "metadata": {},
     "output_type": "execute_result"
    }
   ],
   "source": [
    "model_1.evaluate(test_dataset)"
   ]
  },
  {
   "cell_type": "code",
   "execution_count": 50,
   "id": "dae2670e-66f5-4ae6-a329-6c00027e11aa",
   "metadata": {},
   "outputs": [
    {
     "name": "stdout",
     "output_type": "stream",
     "text": [
      "119/119 [==============================] - 0s 707us/step\n"
     ]
    },
    {
     "data": {
      "text/plain": [
       "<tf.Tensor: shape=(3798,), dtype=int64, numpy=array([2, 1, 1, ..., 0, 2, 1])>"
      ]
     },
     "execution_count": 50,
     "metadata": {},
     "output_type": "execute_result"
    }
   ],
   "source": [
    "model_1_preds_prob = model_1.predict(test_dataset)\n",
    "model_1_preds = tf.argmax(model_1_preds_prob,axis=1)\n",
    "model_1_preds"
   ]
  },
  {
   "cell_type": "code",
   "execution_count": 51,
   "id": "0061a1bb-3707-44a8-8e80-194e56ca7c0a",
   "metadata": {},
   "outputs": [
    {
     "data": {
      "text/plain": [
       "<Axes: >"
      ]
     },
     "execution_count": 51,
     "metadata": {},
     "output_type": "execute_result"
    },
    {
     "data": {
      "image/png": "[encoded data removed]",
      "text/plain": [
       "<Figure size 640x480 with 2 Axes>"
      ]
     },
     "metadata": {},
     "output_type": "display_data"
    }
   ],
   "source": [
    "sns.heatmap(confusion_matrix(y_test,model_1_preds), annot=True, fmt='d')"
   ]
  },
  {
   "cell_type": "code",
   "execution_count": 52,
   "id": "54126e2a-4f2b-437a-a9c3-9cbb6854bb1b",
   "metadata": {},
   "outputs": [
    {
     "name": "stdout",
     "output_type": "stream",
     "text": [
      "              precision    recall  f1-score   support\n",
      "\n",
      "           0       0.68      0.74      0.71       619\n",
      "           1       0.79      0.86      0.82      1546\n",
      "           2       0.85      0.76      0.80      1633\n",
      "\n",
      "    accuracy                           0.79      3798\n",
      "   macro avg       0.77      0.78      0.78      3798\n",
      "weighted avg       0.80      0.79      0.79      3798\n",
      "\n"
     ]
    }
   ],
   "source": [
    "model_1_class_report = classification_report(y_test,\n",
    "                                            model_1_preds)\n",
    "print(model_1_class_report)"
   ]
  },
  {
   "cell_type": "code",
   "execution_count": 53,
   "id": "912a31bf-bcce-4bff-b36c-24e663505360",
   "metadata": {},
   "outputs": [
    {
     "name": "stdout",
     "output_type": "stream",
     "text": [
      "              precision    recall  f1-score   support\n",
      "\n",
      "           0       0.75      0.00      0.01       619\n",
      "           1       0.56      0.91      0.69      1546\n",
      "           2       0.76      0.60      0.67      1633\n",
      "\n",
      "    accuracy                           0.63      3798\n",
      "   macro avg       0.69      0.50      0.46      3798\n",
      "weighted avg       0.68      0.63      0.57      3798\n",
      "\n"
     ]
    }
   ],
   "source": [
    "print(baseline_class_report)"
   ]
  },
  {
   "cell_type": "markdown",
   "id": "525ea268-15f9-412a-862b-e315b870e010",
   "metadata": {},
   "source": [
    "# Model 2: pretrained token embeddings from tf_hub"
   ]
  },
  {
   "cell_type": "code",
   "execution_count": 54,
   "id": "cf06db88-ba28-4682-94df-144eb1ef4f6b",
   "metadata": {},
   "outputs": [],
   "source": [
    "tf_hub_embed = hub.KerasLayer(\"https://www.kaggle.com/models/google/universal-sentence-encoder/frameworks/TensorFlow2/variations/universal-sentence-encoder/versions/2\", trainable=False)"
   ]
  },
  {
   "cell_type": "code",
   "execution_count": 55,
   "id": "321d1210-ff2b-4a84-8ba3-b7d18ac78653",
   "metadata": {},
   "outputs": [
    {
     "name": "stdout",
     "output_type": "stream",
     "text": [
      "Going to the supermarket to buy essentials is one of the few things were still encouraged to leave the house to do Heres how to minimise your risk via\n",
      "tf.Tensor(\n",
      "[-0.00913133 -0.06786454  0.0049699  -0.01935106 -0.04689571  0.03296242\n",
      "  0.07564718  0.0309125   0.0189095  -0.02510661 -0.00357407 -0.00040074\n",
      " -0.04341763  0.07056107 -0.02381752 -0.00281155 -0.05795469 -0.00260412\n",
      "  0.03972463 -0.00460596], shape=(20,), dtype=float32)\n"
     ]
    }
   ],
   "source": [
    "random_training_sentence = random.choice(X_train)\n",
    "print(random_training_sentence)\n",
    "embedded_sentence = tf_hub_embed([random_training_sentence])\n",
    "print(embedded_sentence[0][:20])"
   ]
  },
  {
   "cell_type": "code",
   "execution_count": 72,
   "id": "25293576-b17b-4212-945f-9f2a9205b0fe",
   "metadata": {},
   "outputs": [
    {
     "name": "stdout",
     "output_type": "stream",
     "text": [
      "Model: \"model_2\"\n",
      "_________________________________________________________________\n",
      " Layer (type)                Output Shape              Param #   \n",
      "=================================================================\n",
      " input_16 (InputLayer)       [(None, 47)]              0         \n",
      "                                                                 \n",
      " lambda (Lambda)             (None,)                   0         \n",
      "                                                                 \n",
      " keras_layer (KerasLayer)    (None, 512)               256797824 \n",
      "                                                                 \n",
      " dense_3 (Dense)             (None, 128)               65664     \n",
      "                                                                 \n",
      " dense_4 (Dense)             (None, 3)                 387       \n",
      "                                                                 \n",
      "=================================================================\n",
      "Total params: 256863875 (979.86 MB)\n",
      "Trainable params: 66051 (258.01 KB)\n",
      "Non-trainable params: 256797824 (979.61 MB)\n",
      "_________________________________________________________________\n"
     ]
    }
   ],
   "source": [
    "inputs = Input(shape=(47,), dtype=tf.string)\n",
    "reshaped_inputs = tf.keras.layers.Lambda(lambda x: tf.reshape(x, shape=(-1,)), output_shape=(47,))(inputs)\n",
    "token_embeddings = tf_hub_embed(reshaped_inputs)\n",
    "x = Dense(128,activation='relu')(token_embeddings)\n",
    "outputs = Dense(3, activation='softmax')(x)\n",
    "model_2 = Model(inputs,outputs)\n",
    "\n",
    "model_2.compile(loss=categorical_crossentropy,\n",
    "               optimizer=Adam(learning_rate=0.001),\n",
    "               metrics=['accuracy'])\n",
    "model_2.summary()"
   ]
  },
  {
   "cell_type": "code",
   "execution_count": 73,
   "id": "813f062c-7326-4bd6-9789-42db6c845997",
   "metadata": {},
   "outputs": [
    {
     "name": "stdout",
     "output_type": "stream",
     "text": [
      "Epoch 1/10\n",
      "1094/1094 [==============================] - 7s 6ms/step - loss: 0.7972 - accuracy: 0.6456 - val_loss: 0.7671 - val_accuracy: 0.6642\n",
      "Epoch 2/10\n",
      "1094/1094 [==============================] - 6s 5ms/step - loss: 0.7517 - accuracy: 0.6698 - val_loss: 0.7574 - val_accuracy: 0.6625\n",
      "Epoch 3/10\n",
      "1094/1094 [==============================] - 6s 5ms/step - loss: 0.7324 - accuracy: 0.6804 - val_loss: 0.7500 - val_accuracy: 0.6634\n",
      "Epoch 4/10\n",
      "1094/1094 [==============================] - 6s 5ms/step - loss: 0.7119 - accuracy: 0.6925 - val_loss: 0.7448 - val_accuracy: 0.6673\n",
      "Epoch 5/10\n",
      "1094/1094 [==============================] - 6s 5ms/step - loss: 0.6907 - accuracy: 0.7055 - val_loss: 0.7420 - val_accuracy: 0.6665\n",
      "Epoch 6/10\n",
      "1094/1094 [==============================] - 6s 5ms/step - loss: 0.6690 - accuracy: 0.7189 - val_loss: 0.7422 - val_accuracy: 0.6706\n",
      "Epoch 7/10\n",
      "1094/1094 [==============================] - 6s 5ms/step - loss: 0.6473 - accuracy: 0.7302 - val_loss: 0.7446 - val_accuracy: 0.6689\n",
      "Epoch 8/10\n",
      "1088/1094 [============================>.] - ETA: 0s - loss: 0.6256 - accuracy: 0.7440Restoring model weights from the end of the best epoch: 5.\n",
      "1094/1094 [==============================] - 6s 5ms/step - loss: 0.6259 - accuracy: 0.7438 - val_loss: 0.7483 - val_accuracy: 0.6686\n",
      "Epoch 8: early stopping\n"
     ]
    }
   ],
   "source": [
    "tf.random.set_seed(23)\n",
    "model_2_history = model_2.fit(train_dataset,\n",
    "                             epochs=10,\n",
    "                             validation_data=valid_dataset,\n",
    "                             callbacks=[stop_early])"
   ]
  },
  {
   "cell_type": "code",
   "execution_count": 74,
   "id": "f32b3c63-032e-4fd0-8a46-487d40bc7f62",
   "metadata": {},
   "outputs": [
    {
     "name": "stdout",
     "output_type": "stream",
     "text": [
      "119/119 [==============================] - 0s 4ms/step - loss: 0.7844 - accuracy: 0.6453\n"
     ]
    },
    {
     "data": {
      "text/plain": [
       "[0.7844281196594238, 0.6453396677970886]"
      ]
     },
     "execution_count": 74,
     "metadata": {},
     "output_type": "execute_result"
    }
   ],
   "source": [
    "model_2.evaluate(test_dataset)"
   ]
  },
  {
   "cell_type": "code",
   "execution_count": 75,
   "id": "367c01e9-a679-46c4-b556-5afc12bc33f5",
   "metadata": {},
   "outputs": [
    {
     "name": "stdout",
     "output_type": "stream",
     "text": [
      "119/119 [==============================] - 1s 4ms/step\n"
     ]
    },
    {
     "data": {
      "text/plain": [
       "<tf.Tensor: shape=(3798,), dtype=int64, numpy=array([0, 1, 1, ..., 2, 2, 1])>"
      ]
     },
     "execution_count": 75,
     "metadata": {},
     "output_type": "execute_result"
    }
   ],
   "source": [
    "model_2_preds_prob = model_2.predict(test_dataset)\n",
    "model_2_preds = tf.argmax(model_2_preds_prob,axis=1)\n",
    "model_2_preds"
   ]
  },
  {
   "cell_type": "code",
   "execution_count": 76,
   "id": "a9c59baa-7374-4748-8f39-f12ccc2e4490",
   "metadata": {},
   "outputs": [
    {
     "name": "stdout",
     "output_type": "stream",
     "text": [
      "              precision    recall  f1-score   support\n",
      "\n",
      "           0       0.55      0.50      0.52       619\n",
      "           1       0.63      0.69      0.66      1546\n",
      "           2       0.70      0.66      0.68      1633\n",
      "\n",
      "    accuracy                           0.65      3798\n",
      "   macro avg       0.63      0.62      0.62      3798\n",
      "weighted avg       0.65      0.65      0.64      3798\n",
      "\n"
     ]
    }
   ],
   "source": [
    "model_2_class_report = classification_report(y_test,\n",
    "                                            model_2_preds)\n",
    "print(model_2_class_report)"
   ]
  },
  {
   "cell_type": "code",
   "execution_count": 77,
   "id": "dc77bcf6-fa85-4574-a716-2cd1b9f7609b",
   "metadata": {},
   "outputs": [
    {
     "data": {
      "text/plain": [
       "<Axes: >"
      ]
     },
     "execution_count": 77,
     "metadata": {},
     "output_type": "execute_result"
    },
    {
     "data": {
      "image/png": "[encoded data removed]",
      "text/plain": [
       "<Figure size 640x480 with 2 Axes>"
      ]
     },
     "metadata": {},
     "output_type": "display_data"
    }
   ],
   "source": [
    "sns.heatmap(confusion_matrix(y_test,model_2_preds), annot=True, fmt='d')"
   ]
  },
  {
   "cell_type": "markdown",
   "id": "2c988874-251d-4d5a-8827-5b3a1c060254",
   "metadata": {},
   "source": [
    "# Model 3: Character embeddings"
   ]
  },
  {
   "cell_type": "markdown",
   "id": "c3db33c9-d217-4039-891d-77c1d2b80563",
   "metadata": {},
   "source": [
    "## Creating character-level tokenizer"
   ]
  },
  {
   "cell_type": "code",
   "execution_count": 85,
   "id": "951577e7-08e1-4e9a-9172-49f77cd6c408",
   "metadata": {},
   "outputs": [
    {
     "data": {
      "text/plain": [
       "'G o i n g   t o   t h e   s u p e r m a r k e t   t o   b u y   e s s e n t i a l s   i s   o n e   o f   t h e   f e w   t h i n g s   w e r e   s t i l l   e n c o u r a g e d   t o   l e a v e   t h e   h o u s e   t o   d o   H e r e s   h o w   t o   m i n i m i s e   y o u r   r i s k   v i a'"
      ]
     },
     "execution_count": 85,
     "metadata": {},
     "output_type": "execute_result"
    }
   ],
   "source": [
    "def split_chars(text):\n",
    "    return \" \".join(list(text))\n",
    "\n",
    "split_chars(random_training_sentence)"
   ]
  },
  {
   "cell_type": "code",
   "execution_count": 86,
   "id": "8f7cc8cc-38b8-43c5-a0ca-b0bde139965f",
   "metadata": {},
   "outputs": [],
   "source": [
    "train_chars = [split_chars(sentence) for sentence in X_train]\n",
    "valid_chars = [split_chars(sentence) for sentence in X_valid]\n",
    "test_chars = [split_chars(sentence) for sentence in X_test]"
   ]
  },
  {
   "cell_type": "code",
   "execution_count": 87,
   "id": "61cf14c5-1e6d-44df-85b9-1bac185268d5",
   "metadata": {},
   "outputs": [
    {
     "data": {
      "text/plain": [
       "175.3687586558787"
      ]
     },
     "execution_count": 87,
     "metadata": {},
     "output_type": "execute_result"
    }
   ],
   "source": [
    "avg_let_lens"
   ]
  },
  {
   "cell_type": "code",
   "execution_count": 88,
   "id": "cb6beb2d-0520-4a69-8d17-9e7d05af54c4",
   "metadata": {},
   "outputs": [
    {
     "data": {
      "text/plain": [
       "264"
      ]
     },
     "execution_count": 88,
     "metadata": {},
     "output_type": "execute_result"
    }
   ],
   "source": [
    "output_let_len"
   ]
  },
  {
   "cell_type": "code",
   "execution_count": 89,
   "id": "e7127b7c-1067-4da5-974b-8dd3cc58fef2",
   "metadata": {},
   "outputs": [
    {
     "data": {
      "text/plain": [
       "'abcdefghijklmnopqrstuvwxyz0123456789!\"#$%&\\'()*+,-./:;<=>?@[\\\\]^_`{|}~'"
      ]
     },
     "execution_count": 89,
     "metadata": {},
     "output_type": "execute_result"
    }
   ],
   "source": [
    "alphabet = string.ascii_lowercase + string.digits + string.punctuation\n",
    "alphabet"
   ]
  },
  {
   "cell_type": "code",
   "execution_count": 90,
   "id": "84809e31-0304-45d8-9dad-f10c293fe590",
   "metadata": {},
   "outputs": [],
   "source": [
    "NUM_CAHR_TOKENS = len(alphabet) + 2\n",
    "char_vectorizer = TextVectorization(max_tokens=NUM_CAHR_TOKENS,\n",
    "                                   output_sequence_length=output_let_len,\n",
    "                                   standardize='lower_and_strip_punctuation')\n",
    "char_vectorizer.adapt(train_chars)"
   ]
  },
  {
   "cell_type": "code",
   "execution_count": 91,
   "id": "044b3d0e-ead1-4bee-91d0-dd6701b2ad7a",
   "metadata": {},
   "outputs": [
    {
     "name": "stdout",
     "output_type": "stream",
     "text": [
      "Number of different characters in character vocab: 38\n",
      "5 most common characters: ['', '[UNK]', 'e', 'o', 't', 'a', 'i', 's', 'r', 'n', 'c', 'l', 'h', 'd', 'u', 'p', 'm', 'g', 'f', 'y']\n",
      "5 least common characters: ['f', 'y', 'v', 'w', 'b', 'k', '1', '9', '0', '2', 'x', 'z', 'j', 'q', '5', '3', '4', '6', '7', '8']\n"
     ]
    }
   ],
   "source": [
    "char_vocab = char_vectorizer.get_vocabulary()\n",
    "print(f\"Number of different characters in character vocab: {len(char_vocab)}\")\n",
    "print(f\"5 most common characters: {char_vocab[:20]}\")\n",
    "print(f\"5 least common characters: {char_vocab[-20:]}\")"
   ]
  },
  {
   "cell_type": "markdown",
   "id": "793186c4-27bf-422a-b278-9a4e9b267450",
   "metadata": {},
   "source": [
    "## Creating character-level embedding"
   ]
  },
  {
   "cell_type": "code",
   "execution_count": 92,
   "id": "cc34a645-4f26-4982-a3d0-c6648794552f",
   "metadata": {},
   "outputs": [],
   "source": [
    "char_embed = Embedding(input_dim=NUM_CAHR_TOKENS,\n",
    "                      output_dim=30,\n",
    "                      mask_zero=False)"
   ]
  },
  {
   "cell_type": "code",
   "execution_count": 452,
   "id": "f0a24a19-957f-4399-8648-1c005cba580f",
   "metadata": {},
   "outputs": [
    {
     "name": "stdout",
     "output_type": "stream",
     "text": [
      "Charified text (before vectorization and embedding):\n",
      "N o r t h e r n e r s   v s   s o u t h e r n e r s   f i g h t   f i g h t   f i g h t   f i g h t   f i g h t   F F S   G R O W   U P   I m   s e e i n g   a s   m u c h   f o o t a g e   o f   t h e   c h a v s   i n   n o r t h e r n   t o w n   s u p e r m a r k e t   c a r   p a r k s   a s   I   a m   i n   s o u t h e r n   s u p e r m a r k e t   c a r   p a r k s   G u e s s   w h a t   y o u r e   a l l   p r i c k s   S t a y H o m e S a v e L i v e s\n",
      "\n",
      "Embedded chars (after vectorization and embedding):\n",
      "[[[ 0.03915037 -0.0176241  -0.0063224  ...  0.00879151 -0.02310215\n",
      "    0.00629168]\n",
      "  [-0.02322963  0.04072611 -0.03284226 ... -0.00839097  0.04118302\n",
      "   -0.00259332]\n",
      "  [ 0.0317881  -0.01064295  0.01398977 ... -0.02527785  0.01808001\n",
      "    0.03646991]\n",
      "  ...\n",
      "  [ 0.00288966  0.02910506 -0.03227322 ...  0.03949312  0.04089855\n",
      "    0.00148414]\n",
      "  [ 0.00288966  0.02910506 -0.03227322 ...  0.03949312  0.04089855\n",
      "    0.00148414]\n",
      "  [ 0.00288966  0.02910506 -0.03227322 ...  0.03949312  0.04089855\n",
      "    0.00148414]]]\n",
      "\n",
      "Character embedding shape: (1, 264, 30)\n"
     ]
    }
   ],
   "source": [
    "random_train_chars = random.choice(train_chars)\n",
    "print(f\"Charified text (before vectorization and embedding):\\n{random_train_chars}\\n\")\n",
    "char_embed_example = char_embed(char_vectorizer([random_train_chars]))\n",
    "print(f\"Embedded chars (after vectorization and embedding):\\n{char_embed_example}\\n\")\n",
    "print(f\"Character embedding shape: {char_embed_example.shape}\")\n",
    "     "
   ]
  },
  {
   "cell_type": "markdown",
   "id": "f425d66b-392c-4108-9aa6-71249d5190e7",
   "metadata": {},
   "source": [
    "## Building Conv1D model"
   ]
  },
  {
   "cell_type": "code",
   "execution_count": 93,
   "id": "5ef23334-3d56-4e78-83d1-297a1372de70",
   "metadata": {},
   "outputs": [],
   "source": [
    "train_char_dataset = tf.data.Dataset.from_tensor_slices((train_chars,y_train_one_hot)).batch(32).prefetch(tf.data.AUTOTUNE)\n",
    "valid_char_dataset = tf.data.Dataset.from_tensor_slices((valid_chars,y_valid_one_hot)).batch(32).prefetch(tf.data.AUTOTUNE)\n",
    "test_char_dataset = tf.data.Dataset.from_tensor_slices((test_chars,y_test_one_hot)).batch(32).prefetch(tf.data.AUTOTUNE)"
   ]
  },
  {
   "cell_type": "code",
   "execution_count": 468,
   "id": "e40ae277-5467-43aa-bee0-29aa15483b63",
   "metadata": {},
   "outputs": [
    {
     "name": "stdout",
     "output_type": "stream",
     "text": [
      "Model: \"model_30\"\n",
      "_________________________________________________________________\n",
      " Layer (type)                Output Shape              Param #   \n",
      "=================================================================\n",
      " input_45 (InputLayer)       [(None, 1)]               0         \n",
      "                                                                 \n",
      " text_vectorization_7 (Text  (None, 264)               0         \n",
      " Vectorization)                                                  \n",
      "                                                                 \n",
      " embedding_5 (Embedding)     (None, 264, 30)           2100      \n",
      "                                                                 \n",
      " conv1d_53 (Conv1D)          (None, 260, 128)          19328     \n",
      "                                                                 \n",
      " conv1d_54 (Conv1D)          (None, 260, 128)          82048     \n",
      "                                                                 \n",
      " global_average_pooling1d_3  (None, 128)               0         \n",
      " 6 (GlobalAveragePooling1D)                                      \n",
      "                                                                 \n",
      " dense_37 (Dense)            (None, 3)                 387       \n",
      "                                                                 \n",
      "=================================================================\n",
      "Total params: 103863 (405.71 KB)\n",
      "Trainable params: 103863 (405.71 KB)\n",
      "Non-trainable params: 0 (0.00 Byte)\n",
      "_________________________________________________________________\n"
     ]
    }
   ],
   "source": [
    "inputs = Input(shape=(1,), dtype=tf.string)\n",
    "char_vectors = char_vectorizer(inputs)\n",
    "char_embeddings = char_embed(char_vectors)\n",
    "x = Conv1D(128, kernel_size=5, activation='relu')(char_embeddings)\n",
    "x = Conv1D(128, kernel_size=5, padding='same', activation='relu')(x)\n",
    "x = GlobalAveragePooling1D()(x)\n",
    "outputs = Dense(3, activation='softmax')(x)\n",
    "model_3 = Model(inputs,outputs)\n",
    "\n",
    "model_3.compile(loss=categorical_crossentropy,\n",
    "               optimizer=Adam(learning_rate=0.0001),\n",
    "               metrics=['accuracy'])\n",
    "model_3.summary()"
   ]
  },
  {
   "cell_type": "code",
   "execution_count": 469,
   "id": "ce217d5f-be6d-4fee-8288-749aedd98162",
   "metadata": {},
   "outputs": [
    {
     "name": "stdout",
     "output_type": "stream",
     "text": [
      "Epoch 1/10\n",
      "1094/1094 [==============================] - 4s 3ms/step - loss: 0.9622 - accuracy: 0.5131 - val_loss: 0.9093 - val_accuracy: 0.5711\n",
      "Epoch 2/10\n",
      "1094/1094 [==============================] - 3s 2ms/step - loss: 0.8732 - accuracy: 0.5985 - val_loss: 0.8451 - val_accuracy: 0.6082\n",
      "Epoch 3/10\n",
      "1094/1094 [==============================] - 3s 2ms/step - loss: 0.8054 - accuracy: 0.6495 - val_loss: 0.8029 - val_accuracy: 0.6409\n",
      "Epoch 4/10\n",
      "1094/1094 [==============================] - 3s 2ms/step - loss: 0.7618 - accuracy: 0.6790 - val_loss: 0.7770 - val_accuracy: 0.6600\n",
      "Epoch 5/10\n",
      "1094/1094 [==============================] - 3s 2ms/step - loss: 0.7304 - accuracy: 0.6996 - val_loss: 0.7576 - val_accuracy: 0.6733\n",
      "Epoch 6/10\n",
      "1094/1094 [==============================] - 3s 2ms/step - loss: 0.7037 - accuracy: 0.7170 - val_loss: 0.7463 - val_accuracy: 0.6838\n",
      "Epoch 7/10\n",
      "1094/1094 [==============================] - 3s 2ms/step - loss: 0.6809 - accuracy: 0.7295 - val_loss: 0.7384 - val_accuracy: 0.6906\n",
      "Epoch 8/10\n",
      "1094/1094 [==============================] - 3s 2ms/step - loss: 0.6596 - accuracy: 0.7414 - val_loss: 0.7306 - val_accuracy: 0.6955\n",
      "Epoch 9/10\n",
      "1094/1094 [==============================] - 3s 2ms/step - loss: 0.6400 - accuracy: 0.7522 - val_loss: 0.7280 - val_accuracy: 0.7007\n",
      "Epoch 10/10\n",
      "1094/1094 [==============================] - 3s 2ms/step - loss: 0.6219 - accuracy: 0.7627 - val_loss: 0.7271 - val_accuracy: 0.7047\n"
     ]
    }
   ],
   "source": [
    "tf.random.set_seed(23)\n",
    "model_3_history = model_3.fit(train_char_dataset,\n",
    "                             epochs=10,\n",
    "                             validation_data=valid_char_dataset,\n",
    "                             callbacks=[stop_early])"
   ]
  },
  {
   "cell_type": "code",
   "execution_count": 470,
   "id": "fb655c88-c7a0-4cdf-a91a-f560cb326269",
   "metadata": {},
   "outputs": [
    {
     "name": "stdout",
     "output_type": "stream",
     "text": [
      "119/119 [==============================] - 0s 2ms/step - loss: 0.7950 - accuracy: 0.6769\n"
     ]
    },
    {
     "data": {
      "text/plain": [
       "[0.7949768304824829, 0.6769352555274963]"
      ]
     },
     "execution_count": 470,
     "metadata": {},
     "output_type": "execute_result"
    }
   ],
   "source": [
    "model_3.evaluate(test_char_dataset)"
   ]
  },
  {
   "cell_type": "code",
   "execution_count": 475,
   "id": "33f4da04-eee1-42e1-9e8c-6098f073a64f",
   "metadata": {},
   "outputs": [
    {
     "name": "stdout",
     "output_type": "stream",
     "text": [
      "119/119 [==============================] - 0s 1ms/step\n"
     ]
    },
    {
     "data": {
      "text/plain": [
       "<tf.Tensor: shape=(3798,), dtype=int64, numpy=array([2, 1, 1, ..., 0, 2, 1])>"
      ]
     },
     "execution_count": 475,
     "metadata": {},
     "output_type": "execute_result"
    }
   ],
   "source": [
    "model_3_preds_prob = model_3.predict(test_char_dataset)\n",
    "model_3_preds = tf.argmax(model_3_preds_prob,axis=1)\n",
    "model_3_preds"
   ]
  },
  {
   "cell_type": "code",
   "execution_count": 476,
   "id": "f4a1f221-fae7-4ae1-b929-fa4e606961a3",
   "metadata": {},
   "outputs": [
    {
     "name": "stdout",
     "output_type": "stream",
     "text": [
      "              precision    recall  f1-score   support\n",
      "\n",
      "           0       0.51      0.67      0.58       619\n",
      "           1       0.67      0.81      0.73      1546\n",
      "           2       0.81      0.55      0.66      1633\n",
      "\n",
      "    accuracy                           0.68      3798\n",
      "   macro avg       0.66      0.68      0.66      3798\n",
      "weighted avg       0.70      0.68      0.68      3798\n",
      "\n"
     ]
    }
   ],
   "source": [
    "model_3_class_report = classification_report(y_test,\n",
    "                                            model_3_preds)\n",
    "print(model_3_class_report)"
   ]
  },
  {
   "cell_type": "code",
   "execution_count": 477,
   "id": "1cf5596d-55b4-44be-abed-128a3583a796",
   "metadata": {},
   "outputs": [
    {
     "data": {
      "text/plain": [
       "<Axes: >"
      ]
     },
     "execution_count": 477,
     "metadata": {},
     "output_type": "execute_result"
    },
    {
     "data": {
      "image/png": "[encoded data removed]",
      "text/plain": [
       "<Figure size 640x480 with 2 Axes>"
      ]
     },
     "metadata": {},
     "output_type": "display_data"
    }
   ],
   "source": [
    "sns.heatmap(confusion_matrix(y_test,model_3_preds), annot=True, fmt='d')"
   ]
  },
  {
   "cell_type": "markdown",
   "id": "f2b6c3b0-ecaa-4e8c-af61-f33ef694a9a0",
   "metadata": {},
   "source": [
    "# Model 4: Hybrid toekn embeddings + character embeddings"
   ]
  },
  {
   "cell_type": "code",
   "execution_count": 148,
   "id": "82174034-82e8-4ea3-91f6-41cdb40c4dd9",
   "metadata": {},
   "outputs": [
    {
     "name": "stdout",
     "output_type": "stream",
     "text": [
      "Model: \"model_91\"\n",
      "__________________________________________________________________________________________________\n",
      " Layer (type)                Output Shape                 Param #   Connected to                  \n",
      "==================================================================================================\n",
      " input_121 (InputLayer)      [(None, 1)]                  0         []                            \n",
      "                                                                                                  \n",
      " text_vectorization_1 (Text  (None, 264)                  0         ['input_121[0][0]']           \n",
      " Vectorization)                                                                                   \n",
      "                                                                                                  \n",
      " embedding_1 (Embedding)     (None, 264, 30)              2100      ['text_vectorization_1[29][0]'\n",
      "                                                                    ]                             \n",
      "                                                                                                  \n",
      " bidirectional_135 (Bidirec  (None, 264, 128)             48640     ['embedding_1[29][0]']        \n",
      " tional)                                                                                          \n",
      "                                                                                                  \n",
      " bidirectional_136 (Bidirec  (None, 264, 256)             263168    ['bidirectional_135[0][0]']   \n",
      " tional)                                                                                          \n",
      "                                                                                                  \n",
      " input_120 (InputLayer)      [(None,)]                    0         []                            \n",
      "                                                                                                  \n",
      " global_average_pooling1d_5  (None, 256)                  0         ['bidirectional_136[0][0]']   \n",
      " 1 (GlobalAveragePooling1D)                                                                       \n",
      "                                                                                                  \n",
      " keras_layer (KerasLayer)    (None, 512)                  2567978   ['input_120[0][0]']           \n",
      "                                                          24                                      \n",
      "                                                                                                  \n",
      " dense_169 (Dense)           (None, 256)                  65792     ['global_average_pooling1d_51[\n",
      "                                                                    0][0]']                       \n",
      "                                                                                                  \n",
      " dense_168 (Dense)           (None, 256)                  131328    ['keras_layer[73][0]']        \n",
      "                                                                                                  \n",
      " dense_170 (Dense)           (None, 128)                  32896     ['dense_169[0][0]']           \n",
      "                                                                                                  \n",
      " concatenate_26 (Concatenat  (None, 384)                  0         ['dense_168[1][0]',           \n",
      " e)                                                                  'dense_170[0][0]']           \n",
      "                                                                                                  \n",
      " reshape_28 (Reshape)        (None, 1, 384)               0         ['concatenate_26[0][0]']      \n",
      "                                                                                                  \n",
      " bidirectional_137 (Bidirec  (None, 1, 512)               1312768   ['reshape_28[0][0]']          \n",
      " tional)                                                                                          \n",
      "                                                                                                  \n",
      " bidirectional_138 (Bidirec  (None, 1, 512)               1574912   ['bidirectional_137[0][0]']   \n",
      " tional)                                                                                          \n",
      "                                                                                                  \n",
      " bidirectional_139 (Bidirec  (None, 1, 512)               1574912   ['bidirectional_138[0][0]']   \n",
      " tional)                                                                                          \n",
      "                                                                                                  \n",
      " global_average_pooling1d_5  (None, 512)                  0         ['bidirectional_139[0][0]']   \n",
      " 2 (GlobalAveragePooling1D)                                                                       \n",
      "                                                                                                  \n",
      " dropout_52 (Dropout)        (None, 512)                  0         ['global_average_pooling1d_52[\n",
      "                                                                    0][0]']                       \n",
      "                                                                                                  \n",
      " dense_171 (Dense)           (None, 128)                  65664     ['dropout_52[0][0]']          \n",
      "                                                                                                  \n",
      " dense_172 (Dense)           (None, 256)                  33024     ['dense_171[0][0]']           \n",
      "                                                                                                  \n",
      " dropout_53 (Dropout)        (None, 256)                  0         ['dense_172[0][0]']           \n",
      "                                                                                                  \n",
      " dense_173 (Dense)           (None, 3)                    771       ['dropout_53[0][0]']          \n",
      "                                                                                                  \n",
      "==================================================================================================\n",
      "Total params: 261903799 (999.08 MB)\n",
      "Trainable params: 5105975 (19.48 MB)\n",
      "Non-trainable params: 256797824 (979.61 MB)\n",
      "__________________________________________________________________________________________________\n"
     ]
    }
   ],
   "source": [
    "token_inputs = Input(shape=(47,), dtype=tf.string)\n",
    "token_inputs = tf.keras.layers.Lambda(lambda x: tf.reshape(x, shape=(-1,)), output_shape=(47,))(token_inputs)\n",
    "token_embedings = tf_hub_embed(token_inputs)\n",
    "token_outputs= Dense(256, activation='relu')(token_embedings)\n",
    "token_model = Model(token_inputs,\n",
    "                   token_outputs)\n",
    "\n",
    "char_inputs = Input(shape=(1,), dtype=tf.string)\n",
    "char_vectors = char_vectorizer(char_inputs)\n",
    "char_embeddings = char_embed(char_vectors)\n",
    "char_x = Bidirectional(LSTM(64, return_sequences=True))(char_embeddings)\n",
    "char_x = Bidirectional(LSTM(128, return_sequences=True))(char_x)\n",
    "char_pool = GlobalAveragePooling1D()(char_x)\n",
    "char_outputs = Dense(256, activation='relu')(char_pool)\n",
    "char_outputs = Dense(128, activation='relu')(char_outputs)\n",
    "char_model = Model(char_inputs,\n",
    "                  char_outputs)\n",
    "\n",
    "token_char_concat = Concatenate()([token_model.output,\n",
    "                                  char_model.output])\n",
    "token_char_reshaped = Reshape((1, -1))(token_char_concat)\n",
    "combined_lstm = Bidirectional(LSTM(256, return_sequences=True))(token_char_reshaped)\n",
    "combined_lstm = Bidirectional(LSTM(256, return_sequences=True))(combined_lstm)\n",
    "combined_lstm = Bidirectional(LSTM(256, return_sequences=True))(combined_lstm)\n",
    "combined_pool = GlobalAveragePooling1D()(combined_lstm)\n",
    "combined_drop = Dropout(0.5)(combined_pool)\n",
    "combined_dense = Dense(128, activation='relu')(combined_drop)\n",
    "combined_dense = Dense(256, activation='relu')(combined_dense)\n",
    "combined_drop = Dropout(0.5)(combined_dense)\n",
    "combined_output = Dense(3, activation='softmax')(combined_drop)\n",
    "\n",
    "model_4 = Model(inputs=[token_model.input, char_model.input],\n",
    "               outputs=combined_output)\n",
    "\n",
    "\n",
    "model_4.compile(loss=categorical_crossentropy,\n",
    "               optimizer=Adam(learning_rate=0.00001),\n",
    "               metrics=['accuracy'])\n",
    "model_4.summary()"
   ]
  },
  {
   "cell_type": "code",
   "execution_count": 120,
   "id": "d659f969-c547-4fe1-b8ef-97d89bc3f7e3",
   "metadata": {},
   "outputs": [],
   "source": [
    "# Combine chars and tokens into a dataset\n",
    "train_char_token_data = tf.data.Dataset.from_tensor_slices((X_train, train_chars)) # make data\n",
    "train_char_token_labels = tf.data.Dataset.from_tensor_slices(y_train_one_hot) # make labels\n",
    "train_char_token_dataset = tf.data.Dataset.zip((train_char_token_data, train_char_token_labels)) # combine data and labels\n",
    "train_char_token_dataset = train_char_token_dataset.batch(32).prefetch(tf.data.AUTOTUNE) \n",
    "\n",
    "valid_char_token_data = tf.data.Dataset.from_tensor_slices((X_valid, valid_chars))\n",
    "valid_char_token_labels = tf.data.Dataset.from_tensor_slices(y_valid_one_hot)\n",
    "valid_char_token_dataset = tf.data.Dataset.zip((valid_char_token_data, valid_char_token_labels))\n",
    "valid_char_token_dataset = valid_char_token_dataset.batch(32).prefetch(tf.data.AUTOTUNE)\n",
    "\n",
    "test_char_token_data = tf.data.Dataset.from_tensor_slices((X_test, test_chars))\n",
    "test_char_token_labels = tf.data.Dataset.from_tensor_slices(y_test_one_hot)\n",
    "test_char_token_dataset = tf.data.Dataset.zip((test_char_token_data,test_char_token_labels))\n",
    "test_char_token_dataset = test_char_token_dataset.batch(32).prefetch(tf.data.AUTOTUNE)"
   ]
  },
  {
   "cell_type": "code",
   "execution_count": 121,
   "id": "0572f2c5-511d-45ca-9b14-f5d619b48656",
   "metadata": {},
   "outputs": [
    {
     "data": {
      "text/plain": [
       "(<_PrefetchDataset element_spec=((TensorSpec(shape=(None,), dtype=tf.string, name=None), TensorSpec(shape=(None,), dtype=tf.string, name=None)), TensorSpec(shape=(None, 3), dtype=tf.float64, name=None))>,\n",
       " <_PrefetchDataset element_spec=((TensorSpec(shape=(None,), dtype=tf.string, name=None), TensorSpec(shape=(None,), dtype=tf.string, name=None)), TensorSpec(shape=(None, 3), dtype=tf.float64, name=None))>,\n",
       " <_PrefetchDataset element_spec=((TensorSpec(shape=(None,), dtype=tf.string, name=None), TensorSpec(shape=(None,), dtype=tf.string, name=None)), TensorSpec(shape=(None, 3), dtype=tf.float64, name=None))>)"
      ]
     },
     "execution_count": 121,
     "metadata": {},
     "output_type": "execute_result"
    }
   ],
   "source": [
    "train_char_token_dataset, valid_char_token_dataset, test_char_token_dataset"
   ]
  },
  {
   "cell_type": "code",
   "execution_count": 149,
   "id": "38ab2175-eaab-4b56-9a0b-adf63a48303d",
   "metadata": {},
   "outputs": [
    {
     "name": "stdout",
     "output_type": "stream",
     "text": [
      "Epoch 1/10\n",
      "1094/1094 [==============================] - 39s 31ms/step - loss: 1.0445 - accuracy: 0.4314 - val_loss: 0.9989 - val_accuracy: 0.4545\n",
      "Epoch 2/10\n",
      "1094/1094 [==============================] - 33s 30ms/step - loss: 1.0036 - accuracy: 0.4386 - val_loss: 0.9910 - val_accuracy: 0.4798\n",
      "Epoch 3/10\n",
      "1094/1094 [==============================] - 33s 30ms/step - loss: 0.9930 - accuracy: 0.4656 - val_loss: 0.9746 - val_accuracy: 0.4882\n",
      "Epoch 4/10\n",
      "1094/1094 [==============================] - 33s 30ms/step - loss: 0.9736 - accuracy: 0.4763 - val_loss: 0.9524 - val_accuracy: 0.4956\n",
      "Epoch 5/10\n",
      "1094/1094 [==============================] - 33s 31ms/step - loss: 0.9534 - accuracy: 0.4883 - val_loss: 0.9346 - val_accuracy: 0.5024\n",
      "Epoch 6/10\n",
      "1094/1094 [==============================] - 33s 30ms/step - loss: 0.9352 - accuracy: 0.5185 - val_loss: 0.9060 - val_accuracy: 0.5742\n",
      "Epoch 7/10\n",
      "1094/1094 [==============================] - 34s 31ms/step - loss: 0.8750 - accuracy: 0.6086 - val_loss: 0.8243 - val_accuracy: 0.6305\n",
      "Epoch 8/10\n",
      "1094/1094 [==============================] - 33s 31ms/step - loss: 0.8172 - accuracy: 0.6446 - val_loss: 0.7966 - val_accuracy: 0.6482\n",
      "Epoch 9/10\n",
      "1094/1094 [==============================] - 33s 31ms/step - loss: 0.7948 - accuracy: 0.6542 - val_loss: 0.7832 - val_accuracy: 0.6586\n",
      "Epoch 10/10\n",
      "1094/1094 [==============================] - 33s 31ms/step - loss: 0.7816 - accuracy: 0.6625 - val_loss: 0.7756 - val_accuracy: 0.6618\n"
     ]
    }
   ],
   "source": [
    "tf.random.set_seed(23)\n",
    "model_4_history = model_4.fit(train_char_token_dataset,\n",
    "                             epochs=10,\n",
    "                             validation_data=valid_char_token_dataset,\n",
    "                             callbacks=[stop_early])"
   ]
  },
  {
   "cell_type": "code",
   "execution_count": 150,
   "id": "d44ce219-3be5-48a0-8fd6-ac4c2c4f9e39",
   "metadata": {},
   "outputs": [
    {
     "name": "stdout",
     "output_type": "stream",
     "text": [
      "119/119 [==============================] - 2s 13ms/step - loss: 0.8042 - accuracy: 0.6424\n"
     ]
    },
    {
     "data": {
      "text/plain": [
       "[0.804232120513916, 0.6424434185028076]"
      ]
     },
     "execution_count": 150,
     "metadata": {},
     "output_type": "execute_result"
    }
   ],
   "source": [
    "model_4.evaluate(test_char_token_dataset)"
   ]
  },
  {
   "cell_type": "code",
   "execution_count": 493,
   "id": "9f0dbd64-4313-460a-8115-537c2c9c85e1",
   "metadata": {},
   "outputs": [
    {
     "name": "stdout",
     "output_type": "stream",
     "text": [
      "119/119 [==============================] - 1s 7ms/step\n"
     ]
    },
    {
     "data": {
      "text/plain": [
       "<tf.Tensor: shape=(3798,), dtype=int64, numpy=array([2, 1, 1, ..., 0, 2, 1])>"
      ]
     },
     "execution_count": 493,
     "metadata": {},
     "output_type": "execute_result"
    }
   ],
   "source": [
    "model_4_preds_prob = model_4.predict(test_char_token_dataset)\n",
    "model_4_preds = tf.argmax(model_4_preds_prob,axis=1)\n",
    "model_4_preds"
   ]
  },
  {
   "cell_type": "code",
   "execution_count": 494,
   "id": "2e5416b3-d189-45b9-a891-cc82722a992c",
   "metadata": {},
   "outputs": [
    {
     "name": "stdout",
     "output_type": "stream",
     "text": [
      "              precision    recall  f1-score   support\n",
      "\n",
      "           0       0.58      0.46      0.51       619\n",
      "           1       0.61      0.72      0.66      1546\n",
      "           2       0.71      0.65      0.68      1633\n",
      "\n",
      "    accuracy                           0.65      3798\n",
      "   macro avg       0.63      0.61      0.62      3798\n",
      "weighted avg       0.65      0.65      0.64      3798\n",
      "\n"
     ]
    }
   ],
   "source": [
    "model_4_class_report = classification_report(y_test,\n",
    "                                            model_4_preds)\n",
    "print(model_4_class_report)"
   ]
  },
  {
   "cell_type": "code",
   "execution_count": 495,
   "id": "b1805a57-5be5-4ae0-9ca9-0107b2837023",
   "metadata": {},
   "outputs": [
    {
     "data": {
      "text/plain": [
       "<Axes: >"
      ]
     },
     "execution_count": 495,
     "metadata": {},
     "output_type": "execute_result"
    },
    {
     "data": {
      "image/png": "[encoded data removed]",
      "text/plain": [
       "<Figure size 640x480 with 2 Axes>"
      ]
     },
     "metadata": {},
     "output_type": "display_data"
    }
   ],
   "source": [
    "sns.heatmap(confusion_matrix(y_test,model_4_preds), annot=True, fmt='d')"
   ]
  },
  {
   "cell_type": "markdown",
   "id": "7f56e5e9-d221-47e5-81c6-38426086d414",
   "metadata": {},
   "source": [
    "# Model 5: BiGRU"
   ]
  },
  {
   "cell_type": "code",
   "execution_count": 151,
   "id": "62ad6896-2f78-4f6c-854d-a21cfa21246e",
   "metadata": {},
   "outputs": [
    {
     "data": {
      "text/plain": [
       "306"
      ]
     },
     "execution_count": 151,
     "metadata": {},
     "output_type": "execute_result"
    }
   ],
   "source": [
    "max_len = np.max(df['text'].apply(lambda x :len(x)))\n",
    "max_len"
   ]
  },
  {
   "cell_type": "code",
   "execution_count": 152,
   "id": "47a57d5f-5a4b-405d-94f1-34bb87cb2832",
   "metadata": {},
   "outputs": [],
   "source": [
    "tokenizer = Tokenizer()"
   ]
  },
  {
   "cell_type": "code",
   "execution_count": 153,
   "id": "a10e6e5d-7b98-4e9c-861d-cd19eec4a2e1",
   "metadata": {},
   "outputs": [],
   "source": [
    "tokenizer.fit_on_texts(X_train)\n",
    "vocab_length = len(tokenizer.word_index) + 1"
   ]
  },
  {
   "cell_type": "code",
   "execution_count": 154,
   "id": "3fe75274-aaca-4504-a3f4-6196fc67c76e",
   "metadata": {},
   "outputs": [],
   "source": [
    "X_train = tokenizer.texts_to_sequences(X_train)\n",
    "X_valid = tokenizer.texts_to_sequences(X_valid)\n",
    "X_test = tokenizer.texts_to_sequences(X_test)"
   ]
  },
  {
   "cell_type": "code",
   "execution_count": 155,
   "id": "9dd7655d-a4e1-4d3d-af3f-d24922303b5b",
   "metadata": {},
   "outputs": [
    {
     "data": {
      "text/plain": [
       "46670"
      ]
     },
     "execution_count": 155,
     "metadata": {},
     "output_type": "execute_result"
    }
   ],
   "source": [
    "vocab_length"
   ]
  },
  {
   "cell_type": "code",
   "execution_count": 162,
   "id": "3edcbcb7-cf42-4728-b03c-57a92ca6945b",
   "metadata": {},
   "outputs": [],
   "source": [
    "X_train = pad_sequences(X_train, maxlen=max_len,padding='post')\n",
    "X_valid = pad_sequences(X_valid, maxlen=max_len,padding='post')\n",
    "X_test = pad_sequences(X_test, maxlen=max_len,padding='post')"
   ]
  },
  {
   "cell_type": "code",
   "execution_count": 654,
   "id": "1f23af8f-fc75-4cb6-8cfd-85e20e66634a",
   "metadata": {},
   "outputs": [],
   "source": [
    "model_5 = tf.keras.Sequential([\n",
    "    Embedding(vocab_length, 16, input_length=max_len),\n",
    "    Bidirectional(tf.keras.layers.GRU(256, return_sequences=True)),\n",
    "    GlobalAveragePooling1D(),\n",
    "    Dense(64, activation='relu'),\n",
    "    Dropout(0.4),\n",
    "    Dense(3, activation='softmax')\n",
    "])\n",
    "# opt = tf.keras.optimizers.Adam(learning_rate=0.01)\n",
    "model_5.compile(loss='categorical_crossentropy',optimizer=\"adam\",metrics=['accuracy'])"
   ]
  },
  {
   "cell_type": "code",
   "execution_count": 638,
   "id": "9a20cc46-3a33-4b84-b3bc-21bd41a5c26c",
   "metadata": {},
   "outputs": [],
   "source": [
    "from keras.utils import to_categorical\n",
    "\n",
    "y_train = to_categorical(y_train, 3)\n",
    "y_valid = to_categorical(y_valid, 3)\n",
    "y_test = to_categorical(y_test, 3)"
   ]
  },
  {
   "cell_type": "code",
   "execution_count": 626,
   "id": "aa48c4a4-a309-45c3-ba90-eb339a434526",
   "metadata": {},
   "outputs": [
    {
     "name": "stdout",
     "output_type": "stream",
     "text": [
      "Epoch 1/10\n",
      "1094/1094 [==============================] - 29s 26ms/step - loss: 0.9096 - accuracy: 0.5425 - val_loss: 0.6870 - val_accuracy: 0.7183\n",
      "Epoch 2/10\n",
      "1094/1094 [==============================] - 16s 15ms/step - loss: 0.6017 - accuracy: 0.7745 - val_loss: 0.5431 - val_accuracy: 0.7990\n",
      "Epoch 3/10\n",
      "1094/1094 [==============================] - 16s 14ms/step - loss: 0.4670 - accuracy: 0.8312 - val_loss: 0.4988 - val_accuracy: 0.8154\n",
      "Epoch 4/10\n",
      "1094/1094 [==============================] - 16s 14ms/step - loss: 0.3623 - accuracy: 0.8765 - val_loss: 0.4761 - val_accuracy: 0.8348\n",
      "Epoch 5/10\n",
      "1094/1094 [==============================] - 16s 14ms/step - loss: 0.2820 - accuracy: 0.9092 - val_loss: 0.5060 - val_accuracy: 0.8312\n",
      "Epoch 6/10\n",
      "1094/1094 [==============================] - 16s 14ms/step - loss: 0.2200 - accuracy: 0.9306 - val_loss: 0.5801 - val_accuracy: 0.8251\n",
      "Epoch 7/10\n",
      "1094/1094 [==============================] - ETA: 0s - loss: 0.1819 - accuracy: 0.9420Restoring model weights from the end of the best epoch: 4.\n",
      "1094/1094 [==============================] - 16s 15ms/step - loss: 0.1819 - accuracy: 0.9420 - val_loss: 0.5922 - val_accuracy: 0.8202\n",
      "Epoch 7: early stopping\n"
     ]
    }
   ],
   "source": [
    "tf.random.set_seed(23)\n",
    "history_5 = model_5.fit(X_train, y_train, epochs=10, \n",
    "                    validation_data=(X_valid, y_valid),\n",
    "                       callbacks=[stop_early])"
   ]
  },
  {
   "cell_type": "code",
   "execution_count": 627,
   "id": "36afcc21-4872-4fc7-9e2f-d2c91c07cc73",
   "metadata": {},
   "outputs": [
    {
     "name": "stdout",
     "output_type": "stream",
     "text": [
      "119/119 [==============================] - 1s 6ms/step - loss: 0.5062 - accuracy: 0.8196\n"
     ]
    },
    {
     "data": {
      "text/plain": [
       "[0.5061681866645813, 0.8196418881416321]"
      ]
     },
     "execution_count": 627,
     "metadata": {},
     "output_type": "execute_result"
    }
   ],
   "source": [
    "model_5.evaluate(X_test,y_test)"
   ]
  },
  {
   "cell_type": "code",
   "execution_count": 628,
   "id": "21c3fd27-ef9b-4b62-ab4d-b7d7932c0cad",
   "metadata": {},
   "outputs": [
    {
     "name": "stdout",
     "output_type": "stream",
     "text": [
      "119/119 [==============================] - 1s 5ms/step\n"
     ]
    }
   ],
   "source": [
    "model_5_preds = model_5.predict(X_test)"
   ]
  },
  {
   "cell_type": "code",
   "execution_count": 629,
   "id": "45135d16-e1ce-4153-a9a6-1288fbb37fb4",
   "metadata": {},
   "outputs": [],
   "source": [
    "model_5_preds=np.argmax(model_5_preds,1)"
   ]
  },
  {
   "cell_type": "code",
   "execution_count": 630,
   "id": "c2d94a1a-35e1-4b15-a1bd-c722cc50c5cf",
   "metadata": {},
   "outputs": [
    {
     "data": {
      "text/plain": [
       "array([2, 1, 1, ..., 0, 2, 1])"
      ]
     },
     "execution_count": 630,
     "metadata": {},
     "output_type": "execute_result"
    }
   ],
   "source": [
    "y_train = np.argmax(y_train,1)\n",
    "y_train\n",
    "y_valid = np.argmax(y_valid,1)\n",
    "y_valid\n",
    "y_test = np.argmax(y_test,1)\n",
    "y_test"
   ]
  },
  {
   "cell_type": "code",
   "execution_count": 631,
   "id": "0864fbff-9670-4fb9-b6fd-f82ac6edfe61",
   "metadata": {},
   "outputs": [
    {
     "name": "stdout",
     "output_type": "stream",
     "text": [
      "              precision    recall  f1-score   support\n",
      "\n",
      "           0       0.83      0.73      0.77       619\n",
      "           1       0.83      0.79      0.81      1546\n",
      "           2       0.81      0.88      0.84      1633\n",
      "\n",
      "    accuracy                           0.82      3798\n",
      "   macro avg       0.82      0.80      0.81      3798\n",
      "weighted avg       0.82      0.82      0.82      3798\n",
      "\n"
     ]
    }
   ],
   "source": [
    "model_5_class_report = classification_report(y_test,model_5_preds)\n",
    "print(model_5_class_report)"
   ]
  },
  {
   "cell_type": "code",
   "execution_count": 634,
   "id": "81e0c752-339d-499c-b110-62bfb5bccb93",
   "metadata": {},
   "outputs": [
    {
     "data": {
      "text/plain": [
       "array([[ 450,   97,   72],\n",
       "       [  51, 1225,  270],\n",
       "       [  42,  153, 1438]])"
      ]
     },
     "execution_count": 634,
     "metadata": {},
     "output_type": "execute_result"
    }
   ],
   "source": [
    "confusion_matrix(y_test,model_5_preds)"
   ]
  },
  {
   "cell_type": "code",
   "execution_count": 635,
   "id": "397e7293-759d-481e-9eea-80984d8c73ee",
   "metadata": {},
   "outputs": [
    {
     "data": {
      "text/plain": [
       "<Axes: >"
      ]
     },
     "execution_count": 635,
     "metadata": {},
     "output_type": "execute_result"
    },
    {
     "data": {
      "image/png": "[encoded data removed]",
      "text/plain": [
       "<Figure size 640x480 with 2 Axes>"
      ]
     },
     "metadata": {},
     "output_type": "display_data"
    }
   ],
   "source": [
    "sns.heatmap(confusion_matrix(y_test,model_5_preds), annot=True, fmt='d')"
   ]
  },
  {
   "cell_type": "markdown",
   "id": "def02d73-a413-48b0-ae6a-c0dc8a66f21f",
   "metadata": {},
   "source": [
    "# Model 6: BiLSTM"
   ]
  },
  {
   "cell_type": "code",
   "execution_count": 651,
   "id": "0e4f58c8-a857-4bc4-a6ac-3947e7aa04da",
   "metadata": {},
   "outputs": [],
   "source": [
    "model_6 = tf.keras.Sequential([\n",
    "    Embedding(vocab_length, 16, input_length=max_len),\n",
    "    Bidirectional(LSTM(256, return_sequences=True)),\n",
    "    Bidirectional(LSTM(256, return_sequences=True)),\n",
    "    Bidirectional(LSTM(256, return_sequences=True)),\n",
    "    GlobalAveragePooling1D(),\n",
    "    Dense(64, activation='relu'),\n",
    "    Dropout(0.4),\n",
    "    Dense(3, activation='softmax')\n",
    "])\n",
    "# opt = tf.keras.optimizers.Adam(learning_rate=0.01)\n",
    "model_6.compile(loss='categorical_crossentropy',optimizer=\"adam\",metrics=['accuracy'])"
   ]
  },
  {
   "cell_type": "code",
   "execution_count": 652,
   "id": "4dc06b8a-0153-434d-b22c-6cfae0164015",
   "metadata": {},
   "outputs": [
    {
     "name": "stdout",
     "output_type": "stream",
     "text": [
      "Epoch 1/10\n",
      "1094/1094 [==============================] - 60s 52ms/step - loss: 1.0240 - accuracy: 0.4480 - val_loss: 0.9355 - val_accuracy: 0.4987\n",
      "Epoch 2/10\n",
      "1094/1094 [==============================] - 50s 46ms/step - loss: 0.9465 - accuracy: 0.4744 - val_loss: 1.0777 - val_accuracy: 0.3871\n",
      "Epoch 3/10\n",
      "1094/1094 [==============================] - 49s 45ms/step - loss: 1.0512 - accuracy: 0.4321 - val_loss: 1.0394 - val_accuracy: 0.4545\n",
      "Epoch 4/10\n",
      "1094/1094 [==============================] - 49s 45ms/step - loss: 0.8221 - accuracy: 0.6276 - val_loss: 0.6518 - val_accuracy: 0.7332\n",
      "Epoch 5/10\n",
      "1094/1094 [==============================] - 49s 45ms/step - loss: 0.5302 - accuracy: 0.8155 - val_loss: 0.4798 - val_accuracy: 0.8304\n",
      "Epoch 6/10\n",
      "1094/1094 [==============================] - 50s 45ms/step - loss: 0.3931 - accuracy: 0.8724 - val_loss: 0.4554 - val_accuracy: 0.8364\n",
      "Epoch 7/10\n",
      "1094/1094 [==============================] - 50s 45ms/step - loss: 0.2826 - accuracy: 0.9117 - val_loss: 0.4696 - val_accuracy: 0.8442\n",
      "Epoch 8/10\n",
      "1094/1094 [==============================] - 50s 45ms/step - loss: 0.1923 - accuracy: 0.9423 - val_loss: 0.5023 - val_accuracy: 0.8466\n",
      "Epoch 9/10\n",
      "1094/1094 [==============================] - ETA: 0s - loss: 0.1420 - accuracy: 0.9563Restoring model weights from the end of the best epoch: 6.\n",
      "1094/1094 [==============================] - 50s 45ms/step - loss: 0.1420 - accuracy: 0.9563 - val_loss: 0.5171 - val_accuracy: 0.8558\n",
      "Epoch 9: early stopping\n"
     ]
    }
   ],
   "source": [
    "tf.random.set_seed(23)\n",
    "history_6 = model_6.fit(X_train, y_train, epochs=10, \n",
    "                    validation_data=(X_valid, y_valid),\n",
    "                       callbacks=[stop_early])"
   ]
  },
  {
   "cell_type": "code",
   "execution_count": 658,
   "id": "89906bad-c59e-428c-8121-20f9ea8699bb",
   "metadata": {},
   "outputs": [],
   "source": [
    "y_test = to_categorical(y_test, 3)"
   ]
  },
  {
   "cell_type": "code",
   "execution_count": 659,
   "id": "910e6c8b-62df-42b9-8be8-bb3e6ae2723a",
   "metadata": {},
   "outputs": [
    {
     "name": "stdout",
     "output_type": "stream",
     "text": [
      "119/119 [==============================] - 2s 19ms/step - loss: 0.4853 - accuracy: 0.8239\n"
     ]
    },
    {
     "data": {
      "text/plain": [
       "[0.4853037893772125, 0.8238546848297119]"
      ]
     },
     "execution_count": 659,
     "metadata": {},
     "output_type": "execute_result"
    }
   ],
   "source": [
    "model_6.evaluate(X_test,y_test)"
   ]
  },
  {
   "cell_type": "code",
   "execution_count": 660,
   "id": "eaaf2fef-c15b-4535-b8c9-553fe75622ad",
   "metadata": {},
   "outputs": [
    {
     "name": "stdout",
     "output_type": "stream",
     "text": [
      "119/119 [==============================] - 2s 18ms/step\n"
     ]
    }
   ],
   "source": [
    "model_6_preds = model_6.predict(X_test)"
   ]
  },
  {
   "cell_type": "code",
   "execution_count": 661,
   "id": "524788a0-45cc-4c48-93a9-4e069a4aa956",
   "metadata": {},
   "outputs": [],
   "source": [
    "model_6_preds=np.argmax(model_6_preds,1)"
   ]
  },
  {
   "cell_type": "code",
   "execution_count": 663,
   "id": "77f2ea32-a96c-42cc-90a4-46f11ad807c3",
   "metadata": {},
   "outputs": [],
   "source": [
    "y_test = np.argmax(y_test,1)"
   ]
  },
  {
   "cell_type": "code",
   "execution_count": 664,
   "id": "e2c94258-972b-4dc4-9b95-9efa72269455",
   "metadata": {},
   "outputs": [
    {
     "name": "stdout",
     "output_type": "stream",
     "text": [
      "              precision    recall  f1-score   support\n",
      "\n",
      "           0       0.83      0.73      0.77       619\n",
      "           1       0.83      0.79      0.81      1546\n",
      "           2       0.81      0.88      0.84      1633\n",
      "\n",
      "    accuracy                           0.82      3798\n",
      "   macro avg       0.82      0.80      0.81      3798\n",
      "weighted avg       0.82      0.82      0.82      3798\n",
      "\n"
     ]
    }
   ],
   "source": [
    "model_5_class_report = classification_report(y_test,model_5_preds)\n",
    "print(model_5_class_report)"
   ]
  },
  {
   "cell_type": "code",
   "execution_count": 665,
   "id": "5ecc92b2-b02a-4e5d-a980-3c8a3e2e0769",
   "metadata": {},
   "outputs": [
    {
     "data": {
      "text/plain": [
       "<Axes: >"
      ]
     },
     "execution_count": 665,
     "metadata": {},
     "output_type": "execute_result"
    },
    {
     "data": {
      "image/png": "[encoded data removed]",
      "text/plain": [
       "<Figure size 640x480 with 2 Axes>"
      ]
     },
     "metadata": {},
     "output_type": "display_data"
    }
   ],
   "source": [
    "sns.heatmap(confusion_matrix(y_test,model_6_preds), annot=True, fmt='d')"
   ]
  },
  {
   "cell_type": "code",
   "execution_count": null,
   "id": "b4938ca7-fa6c-44e1-a90a-a7b5b684a4ee",
   "metadata": {},
   "outputs": [],
   "source": []
  }
 ],
 "metadata": {
  "kernelspec": {
   "display_name": "tfod",
   "language": "python",
   "name": "tfod"
  },
  "language_info": {
   "codemirror_mode": {
    "name": "ipython",
    "version": 3
   },
   "file_extension": ".py",
   "mimetype": "text/x-python",
   "name": "python",
   "nbconvert_exporter": "python",
   "pygments_lexer": "ipython3",
   "version": "3.10.12"
  }
 },
 "nbformat": 4,
 "nbformat_minor": 5
}
